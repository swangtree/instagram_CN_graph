{
  "cells": [
    {
      "cell_type": "markdown",
      "source": [
        "This jupyter notebook contains the code for Question Two of our DIS Copenhagen Spring 2025 Complex Networks final project."
      ],
      "metadata": {
        "id": "8wY4WLLpDRfR"
      }
    },
    {
      "cell_type": "code",
      "execution_count": 1,
      "metadata": {
        "colab": {
          "base_uri": "https://localhost:8080/"
        },
        "id": "DLQfHdAFltXx",
        "outputId": "1314ade5-19f6-4143-d6a0-8a2fe3a721a9"
      },
      "outputs": [
        {
          "output_type": "stream",
          "name": "stdout",
          "text": [
            "Cloning into 'instagram_CN_graph'...\n",
            "remote: Enumerating objects: 133, done.\u001b[K\n",
            "remote: Counting objects: 100% (133/133), done.\u001b[K\n",
            "remote: Compressing objects: 100% (96/96), done.\u001b[K\n",
            "remote: Total 133 (delta 62), reused 104 (delta 37), pack-reused 0 (from 0)\u001b[K\n",
            "Receiving objects: 100% (133/133), 9.02 MiB | 3.27 MiB/s, done.\n",
            "Resolving deltas: 100% (62/62), done.\n",
            "Updating files: 100% (55/55), done.\n"
          ]
        }
      ],
      "source": [
        "!git clone https://github.com/swangtree/instagram_CN_graph.git"
      ]
    },
    {
      "cell_type": "markdown",
      "source": [
        "# Research Question 2: Most Important Accounts\n",
        "AI Disclosure Statement: This implementation was assisted by generative AI. It has been reviewed by humans. Please contact the authors to inquire about the extent of AI usage."
      ],
      "metadata": {
        "id": "JC4lJGK8KNBS"
      }
    },
    {
      "cell_type": "code",
      "execution_count": 2,
      "metadata": {
        "id": "-2f5Tr-hmE9O"
      },
      "outputs": [],
      "source": [
        "import networkx as nx\n",
        "import pandas as pd\n",
        "import os\n",
        "import glob\n",
        "import matplotlib\n",
        "import scipy\n"
      ]
    },
    {
      "cell_type": "code",
      "execution_count": 3,
      "metadata": {
        "id": "1hSv9GnymLrw"
      },
      "outputs": [],
      "source": [
        "## class members\n",
        "username_dict = {\n",
        "    \"samuel\": \"swang330\",\n",
        "    \"alex\": \"alex.kalis\",\n",
        "    \"alexandra\": \"alexandrapurdy_\",\n",
        "    \"kabir\": \"kabir_aho\",\n",
        "    \"kirin\": \"kirindanek\",\n",
        "    \"liam\": \"liam_hochman\",\n",
        "    \"noah\": \"noahpurow\",\n",
        "    \"seoeun\": \"seoeunki.m\",\n",
        "    \"will\": \"will.deley\",\n",
        "    \"zach\": \"zach.annuik\",\n",
        "    \"yota\": \"yota.katsikouli\",\n",
        "    \"dis_abroad\": \"dis.copenhagen\",\n",
        "    \"ely\": \"elybrayboy\"\n",
        "}"
      ]
    },
    {
      "cell_type": "code",
      "execution_count": 4,
      "metadata": {
        "colab": {
          "base_uri": "https://localhost:8080/"
        },
        "id": "RViEZin7mOJv",
        "outputId": "6f45c753-72f4-47ff-98d0-2c709b0bfb55"
      },
      "outputs": [
        {
          "output_type": "stream",
          "name": "stdout",
          "text": [
            "found 26 CSV files to process.\n",
            "processing: kirin_followers_data.csv...\n",
            "kirindanek\n",
            "-> added 824 edges for kirindanek (followers).\n",
            "processing: yota_following_data.csv...\n",
            "yota.katsikouli\n",
            "-> added 185 edges for yota.katsikouli (following).\n",
            "processing: yota_followers_data.csv...\n",
            "yota.katsikouli\n",
            "-> added 147 edges for yota.katsikouli (followers).\n",
            "processing: samuel_followers_data.csv...\n",
            "swang330\n",
            "-> added 683 edges for swang330 (followers).\n",
            "processing: noah_followers_data.csv...\n",
            "noahpurow\n",
            "-> added 789 edges for noahpurow (followers).\n",
            "processing: will_followers_data.csv...\n",
            "will.deley\n",
            "-> added 631 edges for will.deley (followers).\n",
            "processing: dis_abroad_following_data.csv...\n",
            "dis.copenhagen\n",
            "-> added 240 edges for dis.copenhagen (following).\n",
            "processing: kabir_following_data.csv...\n",
            "kabir_aho\n",
            "-> added 2346 edges for kabir_aho (following).\n",
            "processing: liam_following_data.csv...\n",
            "liam_hochman\n",
            "-> added 1678 edges for liam_hochman (following).\n",
            "processing: ely_following_data.csv...\n",
            "elybrayboy\n",
            "-> added 1471 edges for elybrayboy (following).\n",
            "processing: alex_followers_data.csv...\n",
            "alex.kalis\n",
            "-> added 1235 edges for alex.kalis (followers).\n",
            "processing: noah_following_data.csv...\n",
            "noahpurow\n",
            "-> added 1603 edges for noahpurow (following).\n",
            "processing: dis_abroad_followers_data.csv...\n",
            "dis.copenhagen\n",
            "-> added 4856 edges for dis.copenhagen (followers).\n",
            "processing: zach_followers_data.csv...\n",
            "zach.annuik\n",
            "-> added 603 edges for zach.annuik (followers).\n",
            "processing: ely_followers_data.csv...\n",
            "elybrayboy\n",
            "-> added 892 edges for elybrayboy (followers).\n",
            "processing: liam_followers_data.csv...\n",
            "liam_hochman\n",
            "-> added 817 edges for liam_hochman (followers).\n",
            "processing: alexandra_following_data.csv...\n",
            "alexandrapurdy_\n",
            "-> added 869 edges for alexandrapurdy_ (following).\n",
            "processing: seoeun_following_data.csv...\n",
            "seoeunki.m\n",
            "-> added 1403 edges for seoeunki.m (following).\n",
            "processing: kirin_following_data.csv...\n",
            "kirindanek\n",
            "-> added 1533 edges for kirindanek (following).\n",
            "processing: alexandra_followers_data.csv...\n",
            "alexandrapurdy_\n",
            "-> added 711 edges for alexandrapurdy_ (followers).\n",
            "processing: seoeun_followers_data.csv...\n",
            "seoeunki.m\n",
            "-> added 1136 edges for seoeunki.m (followers).\n",
            "processing: zach_following_data.csv...\n",
            "zach.annuik\n",
            "-> added 1066 edges for zach.annuik (following).\n",
            "processing: alex_following_data.csv...\n",
            "alex.kalis\n",
            "-> added 1675 edges for alex.kalis (following).\n",
            "processing: will_following_data.csv...\n",
            "will.deley\n",
            "-> added 704 edges for will.deley (following).\n",
            "processing: kabir_followers_data.csv...\n",
            "kabir_aho\n",
            "-> added 827 edges for kabir_aho (followers).\n",
            "processing: samuel_following_data.csv...\n",
            "swang330\n",
            "-> added 1104 edges for swang330 (following).\n",
            "\n",
            "--- Graph Construction Complete ---\n",
            "Number of nodes (users): 21951\n",
            "Number of edges (relationships): 29938\n"
          ]
        }
      ],
      "source": [
        "### construct original network graph\n",
        "current_dir = os.path.dirname(os.getcwd())\n",
        "csv_directory = '/content/instagram_CN_graph/csv_files'\n",
        "\n",
        "output_graph_file = \"/content/output/instagram_network.graphml\"\n",
        "# ---\n",
        "\n",
        "def build_network_from_csvs(csv_dir):\n",
        "    G = nx.DiGraph()\n",
        "    csv_files = glob.glob(os.path.join(csv_dir, \"*_data.csv\"))\n",
        "\n",
        "    if not csv_files:\n",
        "        print(f\"error: no '*_data.csv' files found in directory: {csv_dir}\")\n",
        "        return None\n",
        "\n",
        "    print(f\"found {len(csv_files)} CSV files to process.\")\n",
        "\n",
        "    for csv_path in csv_files:\n",
        "        filename = os.path.basename(csv_path)\n",
        "        print(f\"processing: {filename}...\")\n",
        "\n",
        "        parts = filename.replace(\"_data.csv\", \"\").split('_')\n",
        "        if len(parts) < 2:\n",
        "            print(f\"warning: skipping file with unexpected name format: {filename}\")\n",
        "            continue\n",
        "\n",
        "        relationship_type = parts[-1]\n",
        "        central_node = username_dict[\"_\".join(parts[:-1])]\n",
        "        print(central_node)\n",
        "\n",
        "        if relationship_type not in [\"followers\", \"following\"]:\n",
        "            print(f\"warning: Skipping file - cannot determine relationship type (expected 'followers' or 'following'): {filename}\")\n",
        "            continue\n",
        "\n",
        "        if not central_node:\n",
        "             print(f\"warning: Skipping file - could not determine central node: {filename}\")\n",
        "             continue\n",
        "\n",
        "        G.add_node(central_node)\n",
        "\n",
        "        try:\n",
        "            df = pd.read_csv(csv_path)\n",
        "            if \"username\" not in df.columns:\n",
        "                print(f\"warning: Skipping file - 'username' column not found in {filename}\")\n",
        "                continue\n",
        "\n",
        "            other_users = df[\"username\"].dropna().unique()\n",
        "\n",
        "            for user in other_users:\n",
        "                G.add_node(user) # Add other user node if it doesn't exist\n",
        "\n",
        "                if relationship_type == \"followers\":\n",
        "                    # Edge from follower (user) to central_node\n",
        "                    G.add_edge(user, central_node)\n",
        "                elif relationship_type == \"following\":\n",
        "                    # Edge from central_node to the person they follow (user)\n",
        "                    G.add_edge(central_node, user)\n",
        "\n",
        "            print(f\"-> added {len(other_users)} edges for {central_node} ({relationship_type}).\")\n",
        "\n",
        "        except pd.errors.EmptyDataError:\n",
        "             print(f\"warning: Skipping empty file: {filename}\")\n",
        "        except Exception as e:\n",
        "            print(f\"error processing file {filename}: {e}\")\n",
        "\n",
        "    return G\n",
        "\n",
        "network_graph = build_network_from_csvs(csv_directory)\n",
        "\n",
        "\n",
        "print(\"\\n--- Graph Construction Complete ---\")\n",
        "print(f\"Number of nodes (users): {network_graph.number_of_nodes()}\")\n",
        "print(f\"Number of edges (relationships): {network_graph.number_of_edges()}\")\n"
      ]
    },
    {
      "cell_type": "markdown",
      "metadata": {
        "id": "IeeqysT-UJhL"
      },
      "source": [
        "### Attempt 1: Class members with highest in-degrees"
      ]
    },
    {
      "cell_type": "code",
      "execution_count": null,
      "metadata": {
        "colab": {
          "base_uri": "https://localhost:8080/"
        },
        "id": "9VE2Rx-3UJBo",
        "outputId": "c14c50e4-f771-41d5-916f-317f948c1fed"
      },
      "outputs": [
        {
          "name": "stdout",
          "output_type": "stream",
          "text": [
            "dis.copenhagen        in-degree: 4857\n",
            "alex.kalis            in-degree: 1235\n",
            "seoeunki.m            in-degree: 1136\n",
            "elybrayboy            in-degree: 892\n",
            "kabir_aho             in-degree: 828\n",
            "kirindanek            in-degree: 825\n",
            "liam_hochman          in-degree: 817\n",
            "noahpurow             in-degree: 789\n",
            "alexandrapurdy_       in-degree: 711\n",
            "swang330              in-degree: 685\n",
            "will.deley            in-degree: 631\n",
            "zach.annuik           in-degree: 604\n",
            "yota.katsikouli       in-degree: 147\n",
            "disabroad             in-degree: 7\n",
            "ye                    in-degree: 7\n",
            "livingstonfootballclub  in-degree: 4\n",
            "kingjames             in-degree: 4\n",
            "champagnepapi         in-degree: 4\n",
            "baybater              in-degree: 3\n",
            "3liana_mn             in-degree: 3\n",
            "guslafave             in-degree: 3\n",
            "memezar               in-degree: 3\n",
            "_anders_hansen        in-degree: 3\n",
            "elijahaharris         in-degree: 3\n",
            "travisscott           in-degree: 3\n",
            "21savage              in-degree: 3\n",
            "bronny                in-degree: 3\n",
            "snoopdogg             in-degree: 3\n",
            "clairo                in-degree: 3\n",
            "uwbadgers             in-degree: 3\n",
            "noeldeyzel_bodybuilder  in-degree: 3\n",
            "cbum                  in-degree: 3\n",
            "nfl                   in-degree: 3\n",
            "anderss.k             in-degree: 2\n",
            "dnedtr                in-degree: 2\n",
            "alexpicoult           in-degree: 2\n",
            "o_ovaltine267         in-degree: 2\n",
            "jjessica.zhang        in-degree: 2\n",
            "itzkim_y              in-degree: 2\n",
            "peterschwammy         in-degree: 2\n",
            "zabei.frank           in-degree: 2\n",
            "mia._.adler           in-degree: 2\n",
            "grace.zhengg          in-degree: 2\n",
            "leila.sahyoun         in-degree: 2\n",
            "ryanstracks           in-degree: 2\n",
            "chrishussey_          in-degree: 2\n",
            "_jackchin             in-degree: 2\n",
            "alyssa.pedicino       in-degree: 2\n",
            "kellxj                in-degree: 2\n",
            "eledeff               in-degree: 2\n"
          ]
        }
      ],
      "source": [
        "# most popular accounts\n",
        "# get (node, in_degree) for every node\n",
        "in_degrees = network_graph.in_degree()\n",
        "\n",
        "# sort descending by degree\n",
        "top = sorted(in_degrees, key=lambda x: x[1], reverse=True)[:50]\n",
        "\n",
        "# print them\n",
        "for node, deg in top:\n",
        "    print(f\"{node:20s}  in-degree: {deg}\")\n"
      ]
    },
    {
      "cell_type": "markdown",
      "metadata": {
        "id": "zW92moW0Zs94"
      },
      "source": [
        "### Attempt 2: hubs and authorities\n"
      ]
    },
    {
      "cell_type": "code",
      "execution_count": 5,
      "metadata": {
        "id": "MfhjPImFmi20"
      },
      "outputs": [],
      "source": [
        "B = nx.Graph()"
      ]
    },
    {
      "cell_type": "code",
      "execution_count": null,
      "metadata": {
        "colab": {
          "background_save": true
        },
        "id": "raJy5lE7mtcz"
      },
      "outputs": [],
      "source": [
        "# Mark workspace members\n",
        "workspace_handles = set(username_dict.values())\n",
        "for user in workspace_handles:\n",
        "    B.add_node(user, bipartite='L')\n",
        "\n",
        "# For every directed follow-edge A→B in your original graph:\n",
        "for follower, followed in network_graph.edges():\n",
        "    # Case 1: workspace member follows a non‐member\n",
        "    if follower in workspace_handles and followed not in workspace_handles:\n",
        "        B.add_node(followed, bipartite='R')\n",
        "        B.add_edge(follower, followed)\n",
        "    # Case 2: non‐member follows a workspace member\n",
        "    elif followed in workspace_handles and follower not in workspace_handles:\n",
        "        B.add_node(follower, bipartite='R')\n",
        "        B.add_edge(follower, followed)\n"
      ]
    },
    {
      "cell_type": "code",
      "execution_count": null,
      "metadata": {
        "colab": {
          "base_uri": "https://localhost:8080/"
        },
        "id": "pJnWE3TaZsNT",
        "outputId": "c3aae550-5784-49ce-f00b-2fd6199bde8a"
      },
      "outputs": [
        {
          "name": "stdout",
          "output_type": "stream",
          "text": [
            "Top 10 Hubs (R side):\n",
            "  3liana_mn            2.0735e-04\n",
            "  will.b.lambert       2.0684e-04\n",
            "  anderss.k            2.0668e-04\n",
            "  ella.sheidley        2.0652e-04\n",
            "  itzkim_y             2.0626e-04\n",
            "  oliviamatlaga        2.0626e-04\n",
            "  laney.mcd            2.0626e-04\n",
            "  adrianwclement       2.0604e-04\n",
            "  kayln_               2.0604e-04\n",
            "  matthew.grossman     2.0584e-04\n",
            "\n",
            "Top 10 Authorities (R side):\n",
            "  disabroad            3.2200e-04\n",
            "  ye                   2.3959e-04\n",
            "  kingjames            2.3031e-04\n",
            "  uwbadgers            2.2595e-04\n",
            "  ben_mun_             2.1753e-04\n",
            "  brndayle             2.1268e-04\n",
            "  clairo               1.9907e-04\n",
            "  _anders_hansen       1.9893e-04\n",
            "  mette.mck            1.9887e-04\n",
            "  kate_a.s             1.9478e-04\n"
          ]
        }
      ],
      "source": [
        "import networkx as nx\n",
        "\n",
        "hubs, authorities = nx.hits(network_graph, max_iter=1000, tol=1e-08, normalized=True)\n",
        "\n",
        "# 3. Filter out just the R‐nodes\n",
        "R_nodes = [n for n, d in B.nodes(data=True) if d.get('bipartite') == 'R']\n",
        "\n",
        "# 4. Sort and display the top 10 hubs and top 10 authorities among R\n",
        "top_hubs  = sorted(((n, hubs[n])  for n in R_nodes), key=lambda x: x[1], reverse=True)[:10]\n",
        "top_auths = sorted(((n, authorities[n]) for n in R_nodes), key=lambda x: x[1], reverse=True)[:10]\n",
        "\n",
        "print(\"Top 10 Hubs (R side):\")\n",
        "for n, score in top_hubs:\n",
        "    print(f\"  {n:20s} {score:.4e}\")\n",
        "\n",
        "print(\"\\nTop 10 Authorities (R side):\")\n",
        "for n, score in top_auths:\n",
        "    print(f\"  {n:20s} {score:.4e}\")\n"
      ]
    },
    {
      "cell_type": "markdown",
      "source": [
        "### Attempt 3: Betweenness centrality on bipartite graph"
      ],
      "metadata": {
        "id": "diG4DOvHJArm"
      }
    },
    {
      "cell_type": "code",
      "execution_count": null,
      "metadata": {
        "id": "EtSJ4bOmoRMH"
      },
      "outputs": [],
      "source": [
        "# Compute betweenness centrality on the bipartite graph considering\n",
        "# only class memberes\n",
        "bc = nx.betweenness_centrality_subset(\n",
        "    B,\n",
        "    sources=list(workspace_handles),\n",
        "    targets=list(workspace_handles),\n",
        "    normalized=True\n",
        ")\n",
        "\n"
      ]
    },
    {
      "cell_type": "code",
      "execution_count": null,
      "metadata": {
        "colab": {
          "base_uri": "https://localhost:8080/"
        },
        "id": "0VdN2N-DoTYJ",
        "outputId": "293977d9-aa65-49f5-9674-61f5c3d738ba"
      },
      "outputs": [
        {
          "name": "stdout",
          "output_type": "stream",
          "text": [
            "disabroad             6.7997e-08\n",
            "ye                    2.8524e-08\n",
            "livingstonfootballclub  1.2681e-08\n",
            "kingjames             6.6909e-09\n",
            "itzkim_y              5.8695e-09\n",
            "baybater              5.4852e-09\n",
            "mette.mck             4.4821e-09\n",
            "brndayle              4.4565e-09\n",
            "shaoyxx               4.2002e-09\n",
            "champagnepapi         3.6370e-09\n",
            "anderss.k             3.6100e-09\n",
            "uwbadgers             3.6036e-09\n",
            "oliviamatlaga         2.9891e-09\n",
            "laney.mcd             2.9891e-09\n",
            "lillieofthesky        2.9669e-09\n",
            "alexpicoult           2.9669e-09\n",
            "matthew.grossman      2.7643e-09\n",
            "3liana_mn             2.7420e-09\n",
            "soph.zwu              2.6979e-09\n",
            "clairo                2.5692e-09\n",
            "lukas_stoker          2.5579e-09\n",
            "lindsayeisenman       2.5579e-09\n",
            "dnedtr                2.5274e-09\n",
            "_anders_hansen        2.4341e-09\n",
            "michael.shaari        2.3754e-09\n",
            "guslafave             2.3754e-09\n",
            "elijahaharris         2.3467e-09\n",
            "lylahaikoye           2.2879e-09\n",
            "noeldeyzel_bodybuilder  2.2746e-09\n",
            "cbum                  2.2746e-09\n"
          ]
        }
      ],
      "source": [
        "# 3. Extract and sort only the non‐workspace nodes by centrality\n",
        "r_nodes = [(node, bc_val)\n",
        "           for node, bc_val in bc.items()\n",
        "           if B.nodes[node]['bipartite']=='R']\n",
        "r_nodes.sort(key=lambda x: x[1], reverse=True)\n",
        "\n",
        "# 4. Peek at your top connectors\n",
        "top_connectors = r_nodes[:30]\n",
        "for handle, centrality in top_connectors:\n",
        "    print(f\"{handle:20s}  {centrality:.4e}\")"
      ]
    },
    {
      "cell_type": "code",
      "execution_count": null,
      "metadata": {
        "colab": {
          "base_uri": "https://localhost:8080/"
        },
        "id": "MYLKVxnorA6a",
        "outputId": "f2e05cc4-8c14-4faa-bb12-d94f867dbdf6"
      },
      "outputs": [
        {
          "name": "stdout",
          "output_type": "stream",
          "text": [
            "elybrayboy   → yota.katsikouli :  elybrayboy  →  bensolliday  →  alex.kalis  →  disabroad  →  yota.katsikouli\n",
            "kirindanek   → yota.katsikouli :  kirindanek  →  mette.mck  →  alexandrapurdy_  →  disabroad  →  yota.katsikouli\n",
            "liam_hochman → yota.katsikouli :  liam_hochman  →  disabroad  →  yota.katsikouli\n",
            "alex.kalis   → yota.katsikouli :  alex.kalis  →  disabroad  →  yota.katsikouli\n",
            "alexandrapurdy_ → yota.katsikouli :  alexandrapurdy_  →  disabroad  →  yota.katsikouli\n",
            "noahpurow    → yota.katsikouli :  noahpurow  →  disabroad  →  yota.katsikouli\n",
            "zach.annuik  → yota.katsikouli :  zach.annuik  →  disabroad  →  yota.katsikouli\n",
            "swang330     → yota.katsikouli :  swang330  →  oliviamatlaga  →  alexandrapurdy_  →  disabroad  →  yota.katsikouli\n",
            "seoeunki.m   → yota.katsikouli :  seoeunki.m  →  disabroad  →  yota.katsikouli\n",
            "dis.copenhagen → yota.katsikouli :  dis.copenhagen  →  jordynmosc  →  alexandrapurdy_  →  disabroad  →  yota.katsikouli\n",
            "will.deley   → yota.katsikouli :  will.deley  →  pranshudewagan_  →  alex.kalis  →  disabroad  →  yota.katsikouli\n",
            "kabir_aho    → yota.katsikouli :  kabir_aho  →  zekiah.cj  →  alexandrapurdy_  →  disabroad  →  yota.katsikouli\n"
          ]
        }
      ],
      "source": [
        "# B is bipartite Graph, and username_dict as before\n",
        "workspace_handles = set(username_dict.values())\n",
        "\n",
        "# list of target accounts you care about\n",
        "#interesting_accounts = [handle for handle, _ in top_connectors]\n",
        "interesting_accounts = ['yota.katsikouli']\n",
        "\n",
        "for member in workspace_handles:\n",
        "    for target in interesting_accounts:\n",
        "        if member == target:\n",
        "            continue  # skip if member and target are the same\n",
        "        try:\n",
        "            path = nx.shortest_path(B, source=member, target=target)\n",
        "            print(f\"{member:12s} → {target:12s} :  {'  →  '.join(path)}\")\n",
        "        except nx.NetworkXNoPath:\n",
        "            print(f\"{member:12s} → {target:12s} :  no path\")"
      ]
    },
    {
      "cell_type": "markdown",
      "metadata": {
        "id": "rkARCcIwsyPX"
      },
      "source": [
        "## three-partition graph with synthetic edges R-R"
      ]
    },
    {
      "cell_type": "code",
      "source": [
        "# use graph network_graph from above\n",
        "import networkx as nx\n",
        "\n",
        "def make_bipartite_copy(G, workspace_handles):\n",
        "    \"\"\"\n",
        "    Given a directed graph G and a set of L-nodes (workspace_handles),\n",
        "    returns a copy with all L->L or L<-L edges removed to ensure bipartiteness.\n",
        "    \"\"\"\n",
        "    L_set = set(workspace_handles)\n",
        "    G_bipartite = G.copy()\n",
        "\n",
        "    # Remove all edges u->v where both u and v are in L\n",
        "    edges_to_remove = [(u, v) for u, v in G_bipartite.edges() if u in L_set and v in L_set]\n",
        "    G_bipartite.remove_edges_from(edges_to_remove)\n",
        "\n",
        "    print(f\"Removed {len(edges_to_remove):,} L→L or L←L edges.\")\n",
        "    for node in G_bipartite.nodes():\n",
        "        if node in workspace_handles:\n",
        "            G_bipartite.nodes[node]['bipartite'] = 'L'\n",
        "        else:\n",
        "            G_bipartite.nodes[node]['bipartite'] = 'R'\n",
        "\n",
        "    return G_bipartite\n",
        "workspace_handles = set(username_dict.values())\n",
        "B = make_bipartite_copy(network_graph, workspace_handles)\n",
        "\n"
      ],
      "metadata": {
        "colab": {
          "base_uri": "https://localhost:8080/"
        },
        "id": "xEYAwcZKVHWy",
        "outputId": "2a74df86-ef51-4e66-af7e-be77213add05"
      },
      "execution_count": 5,
      "outputs": [
        {
          "output_type": "stream",
          "name": "stdout",
          "text": [
            "Removed 109 L→L or L←L edges.\n"
          ]
        }
      ]
    },
    {
      "cell_type": "code",
      "source": [
        "lr = 0\n",
        "rl = 0\n",
        "\n",
        "for u, v in B.edges():\n",
        "    if B.nodes[u]['bipartite']=='L':\n",
        "        lr += 1\n",
        "    else:\n",
        "        rl += 1"
      ],
      "metadata": {
        "id": "CceHafxZZSqJ"
      },
      "execution_count": 6,
      "outputs": []
    },
    {
      "cell_type": "code",
      "source": [
        "print(lr)\n",
        "print(rl)"
      ],
      "metadata": {
        "colab": {
          "base_uri": "https://localhost:8080/"
        },
        "id": "i-91NxzTaK5T",
        "outputId": "d1e3b139-da47-49d5-8985-1f3bdfeb14b5"
      },
      "execution_count": 7,
      "outputs": [
        {
          "output_type": "stream",
          "name": "stdout",
          "text": [
            "15781\n",
            "14048\n"
          ]
        }
      ]
    },
    {
      "cell_type": "code",
      "source": [
        "def generate_zhou_weights_streaming(bipartite_edges, L_nodes, R_nodes):\n",
        "    from collections import defaultdict\n",
        "\n",
        "    # Build neighbor sets and degree counts\n",
        "    neighbors_L = defaultdict(set)\n",
        "    k_R = defaultdict(int)\n",
        "\n",
        "    for u, v in bipartite_edges:\n",
        "        if u in L_nodes:\n",
        "            neighbors_L[u].add(v)\n",
        "            k_R[v] += 1\n",
        "\n",
        "    k_L = {u: len(neighbors_L[u]) for u in neighbors_L}\n",
        "\n",
        "    # Yield each weight contribution as it's computed\n",
        "    for u in L_nodes:\n",
        "        neighbors = list(neighbors_L[u])\n",
        "        for i in range(len(neighbors)):\n",
        "            for j in range(len(neighbors)):\n",
        "                if i == j:\n",
        "                    continue\n",
        "                r_i, r_j = neighbors[i], neighbors[j]\n",
        "                if k_L[u] > 0 and k_R[r_j] > 0:\n",
        "                    w = 1 / (k_L[u] * k_R[r_j])\n",
        "                    yield ((r_i, r_j), w)"
      ],
      "metadata": {
        "id": "BxLKaKPJDGES"
      },
      "execution_count": 8,
      "outputs": []
    },
    {
      "cell_type": "code",
      "execution_count": null,
      "metadata": {
        "id": "T6Arrbbq-Snn"
      },
      "outputs": [],
      "source": [
        "import heapq\n",
        "### memory efficient method to select approximated top max_edges weights\n",
        "def keep_top_weights_streaming(R_weights_generator, max_edges=11_000_000):\n",
        "\n",
        "    min_heap = []  # stores (weight, (i, j))\n",
        "\n",
        "    for (i, j), w in R_weights_generator:\n",
        "        if len(min_heap) < max_edges:\n",
        "            heapq.heappush(min_heap, (w, (i, j)))\n",
        "        else:\n",
        "            heapq.heappushpop(min_heap, (w, (i, j)))  # replace smallest if w is bigger\n",
        "\n",
        "    # Convert heap to dictionary\n",
        "    return {pair: weight for weight, pair in min_heap}\n"
      ]
    },
    {
      "cell_type": "code",
      "source": [
        "from collections import defaultdict\n",
        "import heapq\n",
        "# memory inefficient, exact weights\n",
        "def keep_top_weights_accumulated(R_weights_generator, max_edges=11_000_000):\n",
        "    \"\"\"\n",
        "    Accumulate Zhou weights for each (i, j) and keep only the top max_edges.\n",
        "\n",
        "    Args:\n",
        "        R_weights_generator: yields ((i, j), w) contributions one at a time\n",
        "        max_edges: how many top weighted edges to keep\n",
        "\n",
        "    Returns:\n",
        "        A dictionary {(i, j): total_weight} for the top-N edges\n",
        "    \"\"\"\n",
        "    # Step 1: Accumulate all weights per (i, j)\n",
        "    weight_totals = defaultdict(float)\n",
        "    for (i, j), w in R_weights_generator:\n",
        "        weight_totals[(i, j)] += w\n",
        "\n",
        "    # Step 2: Keep only the top-N weights using a heap\n",
        "    min_heap = []\n",
        "    for (i, j), total_weight in weight_totals.items():\n",
        "        if len(min_heap) < max_edges:\n",
        "            heapq.heappush(min_heap, (total_weight, (i, j)))\n",
        "        else:\n",
        "            heapq.heappushpop(min_heap, (total_weight, (i, j)))\n",
        "\n",
        "    # Step 3: Convert heap to final dictionary\n",
        "    return {pair: weight for weight, pair in min_heap}\n"
      ],
      "metadata": {
        "id": "9bqqwfrq53sa"
      },
      "execution_count": 9,
      "outputs": []
    },
    {
      "cell_type": "code",
      "execution_count": 10,
      "metadata": {
        "id": "FAXVOmvNsh7S"
      },
      "outputs": [],
      "source": [
        "def construct_tripartite_graph(bipartite_edges, L_nodes, R_nodes, R_weights, tau):\n",
        "    \"\"\"\n",
        "    Constructs a tripartite graph with:\n",
        "        - L -> R        (original bipartite edges)\n",
        "        - R -> R        (synthetic edges where w_ij > tau)\n",
        "        - R -> L'       (copied from original R -> L edges)\n",
        "    Removes:\n",
        "        - original R -> L edges (handled by R -> L' copying)\n",
        "    \"\"\"\n",
        "    G = nx.DiGraph()\n",
        "    L_prime_nodes = {f\"{l}'\" for l in L_nodes}\n",
        "\n",
        "    # Add nodes\n",
        "    G.add_nodes_from(L_nodes, bipartite='L')\n",
        "    G.add_nodes_from(R_nodes, bipartite='R')\n",
        "    G.add_nodes_from(L_prime_nodes, bipartite='L_prime')\n",
        "\n",
        "    # Add L->R and R-> L'\n",
        "    for u, v in bipartite_edges:\n",
        "        if u in L_nodes and v in R_nodes:\n",
        "            G.add_edge(u, v)\n",
        "        elif u in R_nodes and v in L_nodes:\n",
        "            G.add_edge(u, f\"{v}'\")  # Add R -> L' edge\n",
        "\n",
        "\n",
        "    G.add_edges_from([(u, v) for u, v in bipartite_edges if u in L_nodes and v in R_nodes])\n",
        "\n",
        "    # Add synthetic R -> R edges\n",
        "    for (i, j), w in R_weights.items():\n",
        "        if w > tau:\n",
        "            G.add_edge(i, j)\n",
        "\n",
        "    # Validate: No invalid edges like R->L or L->L'\n",
        "    for u, v in list(G.edges()):\n",
        "        if (u in R_nodes and v in L_nodes) or (u in L_nodes and v in L_prime_nodes):\n",
        "            print(f\"⚠️ Invalid edge detected: {u} -> {v}\")\n",
        "\n",
        "    return G\n"
      ]
    },
    {
      "cell_type": "code",
      "execution_count": null,
      "metadata": {
        "id": "37oUlfJW7vVW"
      },
      "outputs": [],
      "source": [
        "import matplotlib.pyplot as plt\n",
        "\n",
        "def plot_weight_distribution(R_weights, log_scale=False, bins=100):\n",
        "    weights = list(R_weights.values())\n",
        "\n",
        "    plt.figure(figsize=(8, 5))\n",
        "    plt.hist(weights, bins=bins, color='skyblue', edgecolor='black')\n",
        "    plt.xlabel(\"Edge Weight (w_ij)\", fontsize=12)\n",
        "    plt.ylabel(\"Frequency\", fontsize=12)\n",
        "    plt.title(\"Distribution of R→R Weights (Zhou Projection)\", fontsize=14)\n",
        "\n",
        "    if log_scale:\n",
        "        plt.yscale(\"log\")\n",
        "        plt.ylabel(\"Frequency (log scale)\")\n",
        "\n",
        "    plt.grid(True, which='both', linestyle='--', linewidth=0.5)\n",
        "    plt.tight_layout()\n",
        "    plt.show()\n"
      ]
    },
    {
      "cell_type": "code",
      "source": [
        "!pip install kneed"
      ],
      "metadata": {
        "colab": {
          "base_uri": "https://localhost:8080/"
        },
        "id": "JG6i6I8cgY0i",
        "outputId": "6167af72-8e54-46a8-82a2-1804769f3ecc"
      },
      "execution_count": 11,
      "outputs": [
        {
          "output_type": "stream",
          "name": "stdout",
          "text": [
            "Collecting kneed\n",
            "  Downloading kneed-0.8.5-py3-none-any.whl.metadata (5.5 kB)\n",
            "Requirement already satisfied: numpy>=1.14.2 in /usr/local/lib/python3.11/dist-packages (from kneed) (2.0.2)\n",
            "Requirement already satisfied: scipy>=1.0.0 in /usr/local/lib/python3.11/dist-packages (from kneed) (1.15.2)\n",
            "Downloading kneed-0.8.5-py3-none-any.whl (10 kB)\n",
            "Installing collected packages: kneed\n",
            "Successfully installed kneed-0.8.5\n"
          ]
        }
      ]
    },
    {
      "cell_type": "code",
      "source": [
        "from kneed import KneeLocator\n",
        "import numpy as np\n",
        "import matplotlib.pyplot as plt\n",
        "\n",
        "def find_tau_knee_robust(R_weights_refined, top_trim=0.01, bottom_trim=0.10, plot=True):\n",
        "    sorted_weights = sorted(R_weights_refined.values(), reverse=True)\n",
        "    n = len(sorted_weights)\n",
        "\n",
        "    # Trim top and bottom percentiles\n",
        "    start = int(n * top_trim)\n",
        "    end = int(n * (1 - bottom_trim))\n",
        "    trimmed_weights = sorted_weights[start:end]\n",
        "    x = list(range(start, end))\n",
        "    y = trimmed_weights\n",
        "\n",
        "    if len(y) < 10:\n",
        "        print(\"Warning: Not enough data after trimming to find a knee.\")\n",
        "        return None\n",
        "\n",
        "    # Apply KneeLocator\n",
        "    kneedle = KneeLocator(x, y, curve='convex', direction='decreasing')\n",
        "\n",
        "    tau = y[kneedle.knee - start] if kneedle.knee is not None else None\n",
        "\n",
        "    if plot:\n",
        "        plt.figure(figsize=(8, 5))\n",
        "        plt.plot(range(n), sorted_weights, label=\"All Weights\", color='lightgray')\n",
        "        plt.plot(x, y, label=\"Trimmed Weights\", color='blue')\n",
        "        if tau is not None:\n",
        "            plt.axhline(tau, color='red', linestyle='--', label=f\"τ = {tau:.4e}\")\n",
        "        plt.xlabel(\"Rank\")\n",
        "        plt.ylabel(\"Weight\")\n",
        "        plt.title(\"Robust Knee Detection for R→R Weights\")\n",
        "        plt.legend()\n",
        "        plt.grid(True)\n",
        "        plt.tight_layout()\n",
        "        plt.show()\n",
        "\n",
        "    return tau\n"
      ],
      "metadata": {
        "id": "BvSNTuRHGcTI"
      },
      "execution_count": 19,
      "outputs": []
    },
    {
      "cell_type": "code",
      "execution_count": null,
      "metadata": {
        "id": "WGNVMejs-aLy"
      },
      "outputs": [],
      "source": [
        "# memory-efficient but approximated weights\n",
        "stream = generate_zhou_weights_streaming(B.edges(), workspace_handles, set(B.nodes()) - workspace_handles)\n",
        "R_weights_refined = keep_top_weights_streaming(stream, max_edges=11_000_000) ### 11,000,000 approximated extremely conservatively"
      ]
    },
    {
      "cell_type": "code",
      "source": [
        "# exact weights, but memory-inefficient\n",
        "stream = generate_zhou_weights_streaming(B.edges(), workspace_handles, set(B.nodes()) - workspace_handles)\n",
        "R_weights_refined = keep_top_weights_accumulated(stream, max_edges=11_000_000)\n",
        "\n"
      ],
      "metadata": {
        "id": "4pJIoVPE6EBR"
      },
      "execution_count": 12,
      "outputs": []
    },
    {
      "cell_type": "code",
      "source": [
        "# either calculate weights or import via pickle\n",
        "weights = R_weights_refined"
      ],
      "metadata": {
        "id": "RFjHSQAqa9Za"
      },
      "execution_count": 13,
      "outputs": []
    },
    {
      "cell_type": "code",
      "execution_count": null,
      "metadata": {
        "colab": {
          "base_uri": "https://localhost:8080/"
        },
        "id": "zOx4cfQ8BJBi",
        "outputId": "55a93a85-11d4-429a-aee5-0c77c0ac375c"
      },
      "outputs": [
        {
          "output_type": "stream",
          "name": "stdout",
          "text": [
            "Weights saved to /content/weights.pkl\n"
          ]
        }
      ],
      "source": [
        "import pickle\n",
        "### save weights with pickle\n",
        "with open(\"/content/weights.pkl\", \"wb\") as f:\n",
        "    pickle.dump(R_weights_refined, f, protocol=pickle.HIGHEST_PROTOCOL)\n",
        "\n",
        "print(\"Weights saved to /content/weights.pkl\")\n"
      ]
    },
    {
      "cell_type": "code",
      "source": [
        "import pickle\n",
        "### load weights, if already computed\n",
        "with open(\"/content/weights.pkl\", \"rb\") as f:\n",
        "    weights = pickle.load(f)"
      ],
      "metadata": {
        "id": "Ci7yQmE2DU_o",
        "colab": {
          "base_uri": "https://localhost:8080/",
          "height": 176
        },
        "outputId": "f1038e73-f211-4f24-d434-4790c8353de1"
      },
      "execution_count": null,
      "outputs": [
        {
          "output_type": "error",
          "ename": "UnpicklingError",
          "evalue": "pickle data was truncated",
          "traceback": [
            "\u001b[0;31m---------------------------------------------------------------------------\u001b[0m",
            "\u001b[0;31mUnpicklingError\u001b[0m                           Traceback (most recent call last)",
            "\u001b[0;32m<ipython-input-15-d3dc96dfdd32>\u001b[0m in \u001b[0;36m<cell line: 0>\u001b[0;34m()\u001b[0m\n\u001b[1;32m      2\u001b[0m \u001b[0;31m### load weights, if already computed\u001b[0m\u001b[0;34m\u001b[0m\u001b[0;34m\u001b[0m\u001b[0m\n\u001b[1;32m      3\u001b[0m \u001b[0;32mwith\u001b[0m \u001b[0mopen\u001b[0m\u001b[0;34m(\u001b[0m\u001b[0;34m\"/content/weights.pkl\"\u001b[0m\u001b[0;34m,\u001b[0m \u001b[0;34m\"rb\"\u001b[0m\u001b[0;34m)\u001b[0m \u001b[0;32mas\u001b[0m \u001b[0mf\u001b[0m\u001b[0;34m:\u001b[0m\u001b[0;34m\u001b[0m\u001b[0;34m\u001b[0m\u001b[0m\n\u001b[0;32m----> 4\u001b[0;31m     \u001b[0mweights\u001b[0m \u001b[0;34m=\u001b[0m \u001b[0mpickle\u001b[0m\u001b[0;34m.\u001b[0m\u001b[0mload\u001b[0m\u001b[0;34m(\u001b[0m\u001b[0mf\u001b[0m\u001b[0;34m)\u001b[0m\u001b[0;34m\u001b[0m\u001b[0;34m\u001b[0m\u001b[0m\n\u001b[0m",
            "\u001b[0;31mUnpicklingError\u001b[0m: pickle data was truncated"
          ]
        }
      ]
    },
    {
      "cell_type": "code",
      "execution_count": null,
      "metadata": {
        "id": "VxImsMAx8JHT",
        "colab": {
          "base_uri": "https://localhost:8080/",
          "height": 762
        },
        "outputId": "12975d8e-2ee5-48ae-fe5c-e6698192191c"
      },
      "outputs": [
        {
          "output_type": "error",
          "ename": "KeyboardInterrupt",
          "evalue": "",
          "traceback": [
            "\u001b[0;31m---------------------------------------------------------------------------\u001b[0m",
            "\u001b[0;31mKeyboardInterrupt\u001b[0m                         Traceback (most recent call last)",
            "\u001b[0;32m<ipython-input-31-db66c6a56de5>\u001b[0m in \u001b[0;36m<cell line: 0>\u001b[0;34m()\u001b[0m\n\u001b[0;32m----> 1\u001b[0;31m \u001b[0mplot_weight_distribution\u001b[0m\u001b[0;34m(\u001b[0m\u001b[0mweights\u001b[0m\u001b[0;34m,\u001b[0m \u001b[0mlog_scale\u001b[0m\u001b[0;34m=\u001b[0m\u001b[0;32mTrue\u001b[0m\u001b[0;34m)\u001b[0m\u001b[0;34m\u001b[0m\u001b[0;34m\u001b[0m\u001b[0m\n\u001b[0m",
            "\u001b[0;32m<ipython-input-27-9089272d0f6d>\u001b[0m in \u001b[0;36mplot_weight_distribution\u001b[0;34m(R_weights, log_scale, bins)\u001b[0m\n\u001b[1;32m     15\u001b[0m \u001b[0;34m\u001b[0m\u001b[0m\n\u001b[1;32m     16\u001b[0m     \u001b[0mplt\u001b[0m\u001b[0;34m.\u001b[0m\u001b[0mgrid\u001b[0m\u001b[0;34m(\u001b[0m\u001b[0;32mTrue\u001b[0m\u001b[0;34m,\u001b[0m \u001b[0mwhich\u001b[0m\u001b[0;34m=\u001b[0m\u001b[0;34m'both'\u001b[0m\u001b[0;34m,\u001b[0m \u001b[0mlinestyle\u001b[0m\u001b[0;34m=\u001b[0m\u001b[0;34m'--'\u001b[0m\u001b[0;34m,\u001b[0m \u001b[0mlinewidth\u001b[0m\u001b[0;34m=\u001b[0m\u001b[0;36m0.5\u001b[0m\u001b[0;34m)\u001b[0m\u001b[0;34m\u001b[0m\u001b[0;34m\u001b[0m\u001b[0m\n\u001b[0;32m---> 17\u001b[0;31m     \u001b[0mplt\u001b[0m\u001b[0;34m.\u001b[0m\u001b[0mtight_layout\u001b[0m\u001b[0;34m(\u001b[0m\u001b[0;34m)\u001b[0m\u001b[0;34m\u001b[0m\u001b[0;34m\u001b[0m\u001b[0m\n\u001b[0m\u001b[1;32m     18\u001b[0m     \u001b[0mplt\u001b[0m\u001b[0;34m.\u001b[0m\u001b[0mshow\u001b[0m\u001b[0;34m(\u001b[0m\u001b[0;34m)\u001b[0m\u001b[0;34m\u001b[0m\u001b[0;34m\u001b[0m\u001b[0m\n",
            "\u001b[0;32m/usr/local/lib/python3.11/dist-packages/matplotlib/pyplot.py\u001b[0m in \u001b[0;36mtight_layout\u001b[0;34m(pad, h_pad, w_pad, rect)\u001b[0m\n\u001b[1;32m   2833\u001b[0m     \u001b[0mrect\u001b[0m\u001b[0;34m:\u001b[0m \u001b[0mtuple\u001b[0m\u001b[0;34m[\u001b[0m\u001b[0mfloat\u001b[0m\u001b[0;34m,\u001b[0m \u001b[0mfloat\u001b[0m\u001b[0;34m,\u001b[0m \u001b[0mfloat\u001b[0m\u001b[0;34m,\u001b[0m \u001b[0mfloat\u001b[0m\u001b[0;34m]\u001b[0m \u001b[0;34m|\u001b[0m \u001b[0;32mNone\u001b[0m \u001b[0;34m=\u001b[0m \u001b[0;32mNone\u001b[0m\u001b[0;34m,\u001b[0m\u001b[0;34m\u001b[0m\u001b[0;34m\u001b[0m\u001b[0m\n\u001b[1;32m   2834\u001b[0m ) -> None:\n\u001b[0;32m-> 2835\u001b[0;31m     \u001b[0mgcf\u001b[0m\u001b[0;34m(\u001b[0m\u001b[0;34m)\u001b[0m\u001b[0;34m.\u001b[0m\u001b[0mtight_layout\u001b[0m\u001b[0;34m(\u001b[0m\u001b[0mpad\u001b[0m\u001b[0;34m=\u001b[0m\u001b[0mpad\u001b[0m\u001b[0;34m,\u001b[0m \u001b[0mh_pad\u001b[0m\u001b[0;34m=\u001b[0m\u001b[0mh_pad\u001b[0m\u001b[0;34m,\u001b[0m \u001b[0mw_pad\u001b[0m\u001b[0;34m=\u001b[0m\u001b[0mw_pad\u001b[0m\u001b[0;34m,\u001b[0m \u001b[0mrect\u001b[0m\u001b[0;34m=\u001b[0m\u001b[0mrect\u001b[0m\u001b[0;34m)\u001b[0m\u001b[0;34m\u001b[0m\u001b[0;34m\u001b[0m\u001b[0m\n\u001b[0m\u001b[1;32m   2836\u001b[0m \u001b[0;34m\u001b[0m\u001b[0m\n\u001b[1;32m   2837\u001b[0m \u001b[0;34m\u001b[0m\u001b[0m\n",
            "\u001b[0;32m/usr/local/lib/python3.11/dist-packages/matplotlib/figure.py\u001b[0m in \u001b[0;36mtight_layout\u001b[0;34m(self, pad, h_pad, w_pad, rect)\u001b[0m\n\u001b[1;32m   3638\u001b[0m             \u001b[0mprevious_engine\u001b[0m \u001b[0;34m=\u001b[0m \u001b[0mself\u001b[0m\u001b[0;34m.\u001b[0m\u001b[0mget_layout_engine\u001b[0m\u001b[0;34m(\u001b[0m\u001b[0;34m)\u001b[0m\u001b[0;34m\u001b[0m\u001b[0;34m\u001b[0m\u001b[0m\n\u001b[1;32m   3639\u001b[0m             \u001b[0mself\u001b[0m\u001b[0;34m.\u001b[0m\u001b[0mset_layout_engine\u001b[0m\u001b[0;34m(\u001b[0m\u001b[0mengine\u001b[0m\u001b[0;34m)\u001b[0m\u001b[0;34m\u001b[0m\u001b[0;34m\u001b[0m\u001b[0m\n\u001b[0;32m-> 3640\u001b[0;31m             \u001b[0mengine\u001b[0m\u001b[0;34m.\u001b[0m\u001b[0mexecute\u001b[0m\u001b[0;34m(\u001b[0m\u001b[0mself\u001b[0m\u001b[0;34m)\u001b[0m\u001b[0;34m\u001b[0m\u001b[0;34m\u001b[0m\u001b[0m\n\u001b[0m\u001b[1;32m   3641\u001b[0m             if previous_engine is not None and not isinstance(\n\u001b[1;32m   3642\u001b[0m                 \u001b[0mprevious_engine\u001b[0m\u001b[0;34m,\u001b[0m \u001b[0;34m(\u001b[0m\u001b[0mTightLayoutEngine\u001b[0m\u001b[0;34m,\u001b[0m \u001b[0mPlaceHolderLayoutEngine\u001b[0m\u001b[0;34m)\u001b[0m\u001b[0;34m\u001b[0m\u001b[0;34m\u001b[0m\u001b[0m\n",
            "\u001b[0;32m/usr/local/lib/python3.11/dist-packages/matplotlib/layout_engine.py\u001b[0m in \u001b[0;36mexecute\u001b[0;34m(self, fig)\u001b[0m\n\u001b[1;32m    181\u001b[0m         \u001b[0mrenderer\u001b[0m \u001b[0;34m=\u001b[0m \u001b[0mfig\u001b[0m\u001b[0;34m.\u001b[0m\u001b[0m_get_renderer\u001b[0m\u001b[0;34m(\u001b[0m\u001b[0;34m)\u001b[0m\u001b[0;34m\u001b[0m\u001b[0;34m\u001b[0m\u001b[0m\n\u001b[1;32m    182\u001b[0m         \u001b[0;32mwith\u001b[0m \u001b[0mgetattr\u001b[0m\u001b[0;34m(\u001b[0m\u001b[0mrenderer\u001b[0m\u001b[0;34m,\u001b[0m \u001b[0;34m\"_draw_disabled\"\u001b[0m\u001b[0;34m,\u001b[0m \u001b[0mnullcontext\u001b[0m\u001b[0;34m)\u001b[0m\u001b[0;34m(\u001b[0m\u001b[0;34m)\u001b[0m\u001b[0;34m:\u001b[0m\u001b[0;34m\u001b[0m\u001b[0;34m\u001b[0m\u001b[0m\n\u001b[0;32m--> 183\u001b[0;31m             kwargs = get_tight_layout_figure(\n\u001b[0m\u001b[1;32m    184\u001b[0m                 \u001b[0mfig\u001b[0m\u001b[0;34m,\u001b[0m \u001b[0mfig\u001b[0m\u001b[0;34m.\u001b[0m\u001b[0maxes\u001b[0m\u001b[0;34m,\u001b[0m \u001b[0mget_subplotspec_list\u001b[0m\u001b[0;34m(\u001b[0m\u001b[0mfig\u001b[0m\u001b[0;34m.\u001b[0m\u001b[0maxes\u001b[0m\u001b[0;34m)\u001b[0m\u001b[0;34m,\u001b[0m \u001b[0mrenderer\u001b[0m\u001b[0;34m,\u001b[0m\u001b[0;34m\u001b[0m\u001b[0;34m\u001b[0m\u001b[0m\n\u001b[1;32m    185\u001b[0m                 \u001b[0mpad\u001b[0m\u001b[0;34m=\u001b[0m\u001b[0minfo\u001b[0m\u001b[0;34m[\u001b[0m\u001b[0;34m'pad'\u001b[0m\u001b[0;34m]\u001b[0m\u001b[0;34m,\u001b[0m \u001b[0mh_pad\u001b[0m\u001b[0;34m=\u001b[0m\u001b[0minfo\u001b[0m\u001b[0;34m[\u001b[0m\u001b[0;34m'h_pad'\u001b[0m\u001b[0;34m]\u001b[0m\u001b[0;34m,\u001b[0m \u001b[0mw_pad\u001b[0m\u001b[0;34m=\u001b[0m\u001b[0minfo\u001b[0m\u001b[0;34m[\u001b[0m\u001b[0;34m'w_pad'\u001b[0m\u001b[0;34m]\u001b[0m\u001b[0;34m,\u001b[0m\u001b[0;34m\u001b[0m\u001b[0;34m\u001b[0m\u001b[0m\n",
            "\u001b[0;32m/usr/local/lib/python3.11/dist-packages/matplotlib/_tight_layout.py\u001b[0m in \u001b[0;36mget_tight_layout_figure\u001b[0;34m(fig, axes_list, subplotspec_list, renderer, pad, h_pad, w_pad, rect)\u001b[0m\n\u001b[1;32m    264\u001b[0m             slice(ss.colspan.start * div_col, ss.colspan.stop * div_col)))\n\u001b[1;32m    265\u001b[0m \u001b[0;34m\u001b[0m\u001b[0m\n\u001b[0;32m--> 266\u001b[0;31m     kwargs = _auto_adjust_subplotpars(fig, renderer,\n\u001b[0m\u001b[1;32m    267\u001b[0m                                       \u001b[0mshape\u001b[0m\u001b[0;34m=\u001b[0m\u001b[0;34m(\u001b[0m\u001b[0mmax_nrows\u001b[0m\u001b[0;34m,\u001b[0m \u001b[0mmax_ncols\u001b[0m\u001b[0;34m)\u001b[0m\u001b[0;34m,\u001b[0m\u001b[0;34m\u001b[0m\u001b[0;34m\u001b[0m\u001b[0m\n\u001b[1;32m    268\u001b[0m                                       \u001b[0mspan_pairs\u001b[0m\u001b[0;34m=\u001b[0m\u001b[0mspan_pairs\u001b[0m\u001b[0;34m,\u001b[0m\u001b[0;34m\u001b[0m\u001b[0;34m\u001b[0m\u001b[0m\n",
            "\u001b[0;32m/usr/local/lib/python3.11/dist-packages/matplotlib/_tight_layout.py\u001b[0m in \u001b[0;36m_auto_adjust_subplotpars\u001b[0;34m(fig, renderer, shape, span_pairs, subplot_list, ax_bbox_list, pad, h_pad, w_pad, rect)\u001b[0m\n\u001b[1;32m     80\u001b[0m         \u001b[0;32mfor\u001b[0m \u001b[0max\u001b[0m \u001b[0;32min\u001b[0m \u001b[0msubplots\u001b[0m\u001b[0;34m:\u001b[0m\u001b[0;34m\u001b[0m\u001b[0;34m\u001b[0m\u001b[0m\n\u001b[1;32m     81\u001b[0m             \u001b[0;32mif\u001b[0m \u001b[0max\u001b[0m\u001b[0;34m.\u001b[0m\u001b[0mget_visible\u001b[0m\u001b[0;34m(\u001b[0m\u001b[0;34m)\u001b[0m\u001b[0;34m:\u001b[0m\u001b[0;34m\u001b[0m\u001b[0;34m\u001b[0m\u001b[0m\n\u001b[0;32m---> 82\u001b[0;31m                 \u001b[0mbb\u001b[0m \u001b[0;34m+=\u001b[0m \u001b[0;34m[\u001b[0m\u001b[0mmartist\u001b[0m\u001b[0;34m.\u001b[0m\u001b[0m_get_tightbbox_for_layout_only\u001b[0m\u001b[0;34m(\u001b[0m\u001b[0max\u001b[0m\u001b[0;34m,\u001b[0m \u001b[0mrenderer\u001b[0m\u001b[0;34m)\u001b[0m\u001b[0;34m]\u001b[0m\u001b[0;34m\u001b[0m\u001b[0;34m\u001b[0m\u001b[0m\n\u001b[0m\u001b[1;32m     83\u001b[0m \u001b[0;34m\u001b[0m\u001b[0m\n\u001b[1;32m     84\u001b[0m         \u001b[0mtight_bbox_raw\u001b[0m \u001b[0;34m=\u001b[0m \u001b[0mBbox\u001b[0m\u001b[0;34m.\u001b[0m\u001b[0munion\u001b[0m\u001b[0;34m(\u001b[0m\u001b[0mbb\u001b[0m\u001b[0;34m)\u001b[0m\u001b[0;34m\u001b[0m\u001b[0;34m\u001b[0m\u001b[0m\n",
            "\u001b[0;32m/usr/local/lib/python3.11/dist-packages/matplotlib/artist.py\u001b[0m in \u001b[0;36m_get_tightbbox_for_layout_only\u001b[0;34m(obj, *args, **kwargs)\u001b[0m\n\u001b[1;32m   1400\u001b[0m     \"\"\"\n\u001b[1;32m   1401\u001b[0m     \u001b[0;32mtry\u001b[0m\u001b[0;34m:\u001b[0m\u001b[0;34m\u001b[0m\u001b[0;34m\u001b[0m\u001b[0m\n\u001b[0;32m-> 1402\u001b[0;31m         \u001b[0;32mreturn\u001b[0m \u001b[0mobj\u001b[0m\u001b[0;34m.\u001b[0m\u001b[0mget_tightbbox\u001b[0m\u001b[0;34m(\u001b[0m\u001b[0;34m*\u001b[0m\u001b[0margs\u001b[0m\u001b[0;34m,\u001b[0m \u001b[0;34m**\u001b[0m\u001b[0;34m{\u001b[0m\u001b[0;34m**\u001b[0m\u001b[0mkwargs\u001b[0m\u001b[0;34m,\u001b[0m \u001b[0;34m\"for_layout_only\"\u001b[0m\u001b[0;34m:\u001b[0m \u001b[0;32mTrue\u001b[0m\u001b[0;34m}\u001b[0m\u001b[0;34m)\u001b[0m\u001b[0;34m\u001b[0m\u001b[0;34m\u001b[0m\u001b[0m\n\u001b[0m\u001b[1;32m   1403\u001b[0m     \u001b[0;32mexcept\u001b[0m \u001b[0mTypeError\u001b[0m\u001b[0;34m:\u001b[0m\u001b[0;34m\u001b[0m\u001b[0;34m\u001b[0m\u001b[0m\n\u001b[1;32m   1404\u001b[0m         \u001b[0;32mreturn\u001b[0m \u001b[0mobj\u001b[0m\u001b[0;34m.\u001b[0m\u001b[0mget_tightbbox\u001b[0m\u001b[0;34m(\u001b[0m\u001b[0;34m*\u001b[0m\u001b[0margs\u001b[0m\u001b[0;34m,\u001b[0m \u001b[0;34m**\u001b[0m\u001b[0mkwargs\u001b[0m\u001b[0;34m)\u001b[0m\u001b[0;34m\u001b[0m\u001b[0;34m\u001b[0m\u001b[0m\n",
            "\u001b[0;32m/usr/local/lib/python3.11/dist-packages/matplotlib/axes/_base.py\u001b[0m in \u001b[0;36mget_tightbbox\u001b[0;34m(self, renderer, call_axes_locator, bbox_extra_artists, for_layout_only)\u001b[0m\n\u001b[1;32m   4517\u001b[0m         \u001b[0;32mfor\u001b[0m \u001b[0maxis\u001b[0m \u001b[0;32min\u001b[0m \u001b[0mself\u001b[0m\u001b[0;34m.\u001b[0m\u001b[0m_axis_map\u001b[0m\u001b[0;34m.\u001b[0m\u001b[0mvalues\u001b[0m\u001b[0;34m(\u001b[0m\u001b[0;34m)\u001b[0m\u001b[0;34m:\u001b[0m\u001b[0;34m\u001b[0m\u001b[0;34m\u001b[0m\u001b[0m\n\u001b[1;32m   4518\u001b[0m             \u001b[0;32mif\u001b[0m \u001b[0mself\u001b[0m\u001b[0;34m.\u001b[0m\u001b[0maxison\u001b[0m \u001b[0;32mand\u001b[0m \u001b[0maxis\u001b[0m\u001b[0;34m.\u001b[0m\u001b[0mget_visible\u001b[0m\u001b[0;34m(\u001b[0m\u001b[0;34m)\u001b[0m\u001b[0;34m:\u001b[0m\u001b[0;34m\u001b[0m\u001b[0;34m\u001b[0m\u001b[0m\n\u001b[0;32m-> 4519\u001b[0;31m                 \u001b[0mba\u001b[0m \u001b[0;34m=\u001b[0m \u001b[0mmartist\u001b[0m\u001b[0;34m.\u001b[0m\u001b[0m_get_tightbbox_for_layout_only\u001b[0m\u001b[0;34m(\u001b[0m\u001b[0maxis\u001b[0m\u001b[0;34m,\u001b[0m \u001b[0mrenderer\u001b[0m\u001b[0;34m)\u001b[0m\u001b[0;34m\u001b[0m\u001b[0;34m\u001b[0m\u001b[0m\n\u001b[0m\u001b[1;32m   4520\u001b[0m                 \u001b[0;32mif\u001b[0m \u001b[0mba\u001b[0m\u001b[0;34m:\u001b[0m\u001b[0;34m\u001b[0m\u001b[0;34m\u001b[0m\u001b[0m\n\u001b[1;32m   4521\u001b[0m                     \u001b[0mbb\u001b[0m\u001b[0;34m.\u001b[0m\u001b[0mappend\u001b[0m\u001b[0;34m(\u001b[0m\u001b[0mba\u001b[0m\u001b[0;34m)\u001b[0m\u001b[0;34m\u001b[0m\u001b[0;34m\u001b[0m\u001b[0m\n",
            "\u001b[0;32m/usr/local/lib/python3.11/dist-packages/matplotlib/artist.py\u001b[0m in \u001b[0;36m_get_tightbbox_for_layout_only\u001b[0;34m(obj, *args, **kwargs)\u001b[0m\n\u001b[1;32m   1400\u001b[0m     \"\"\"\n\u001b[1;32m   1401\u001b[0m     \u001b[0;32mtry\u001b[0m\u001b[0;34m:\u001b[0m\u001b[0;34m\u001b[0m\u001b[0;34m\u001b[0m\u001b[0m\n\u001b[0;32m-> 1402\u001b[0;31m         \u001b[0;32mreturn\u001b[0m \u001b[0mobj\u001b[0m\u001b[0;34m.\u001b[0m\u001b[0mget_tightbbox\u001b[0m\u001b[0;34m(\u001b[0m\u001b[0;34m*\u001b[0m\u001b[0margs\u001b[0m\u001b[0;34m,\u001b[0m \u001b[0;34m**\u001b[0m\u001b[0;34m{\u001b[0m\u001b[0;34m**\u001b[0m\u001b[0mkwargs\u001b[0m\u001b[0;34m,\u001b[0m \u001b[0;34m\"for_layout_only\"\u001b[0m\u001b[0;34m:\u001b[0m \u001b[0;32mTrue\u001b[0m\u001b[0;34m}\u001b[0m\u001b[0;34m)\u001b[0m\u001b[0;34m\u001b[0m\u001b[0;34m\u001b[0m\u001b[0m\n\u001b[0m\u001b[1;32m   1403\u001b[0m     \u001b[0;32mexcept\u001b[0m \u001b[0mTypeError\u001b[0m\u001b[0;34m:\u001b[0m\u001b[0;34m\u001b[0m\u001b[0;34m\u001b[0m\u001b[0m\n\u001b[1;32m   1404\u001b[0m         \u001b[0;32mreturn\u001b[0m \u001b[0mobj\u001b[0m\u001b[0;34m.\u001b[0m\u001b[0mget_tightbbox\u001b[0m\u001b[0;34m(\u001b[0m\u001b[0;34m*\u001b[0m\u001b[0margs\u001b[0m\u001b[0;34m,\u001b[0m \u001b[0;34m**\u001b[0m\u001b[0mkwargs\u001b[0m\u001b[0;34m)\u001b[0m\u001b[0;34m\u001b[0m\u001b[0;34m\u001b[0m\u001b[0m\n",
            "\u001b[0;32m/usr/local/lib/python3.11/dist-packages/matplotlib/axis.py\u001b[0m in \u001b[0;36mget_tightbbox\u001b[0;34m(self, renderer, for_layout_only)\u001b[0m\n\u001b[1;32m   1360\u001b[0m         \u001b[0;32mif\u001b[0m \u001b[0mrenderer\u001b[0m \u001b[0;32mis\u001b[0m \u001b[0;32mNone\u001b[0m\u001b[0;34m:\u001b[0m\u001b[0;34m\u001b[0m\u001b[0;34m\u001b[0m\u001b[0m\n\u001b[1;32m   1361\u001b[0m             \u001b[0mrenderer\u001b[0m \u001b[0;34m=\u001b[0m \u001b[0mself\u001b[0m\u001b[0;34m.\u001b[0m\u001b[0mget_figure\u001b[0m\u001b[0;34m(\u001b[0m\u001b[0mroot\u001b[0m\u001b[0;34m=\u001b[0m\u001b[0;32mTrue\u001b[0m\u001b[0;34m)\u001b[0m\u001b[0;34m.\u001b[0m\u001b[0m_get_renderer\u001b[0m\u001b[0;34m(\u001b[0m\u001b[0;34m)\u001b[0m\u001b[0;34m\u001b[0m\u001b[0;34m\u001b[0m\u001b[0m\n\u001b[0;32m-> 1362\u001b[0;31m         \u001b[0mticks_to_draw\u001b[0m \u001b[0;34m=\u001b[0m \u001b[0mself\u001b[0m\u001b[0;34m.\u001b[0m\u001b[0m_update_ticks\u001b[0m\u001b[0;34m(\u001b[0m\u001b[0;34m)\u001b[0m\u001b[0;34m\u001b[0m\u001b[0;34m\u001b[0m\u001b[0m\n\u001b[0m\u001b[1;32m   1363\u001b[0m \u001b[0;34m\u001b[0m\u001b[0m\n\u001b[1;32m   1364\u001b[0m         \u001b[0mself\u001b[0m\u001b[0;34m.\u001b[0m\u001b[0m_update_label_position\u001b[0m\u001b[0;34m(\u001b[0m\u001b[0mrenderer\u001b[0m\u001b[0;34m)\u001b[0m\u001b[0;34m\u001b[0m\u001b[0;34m\u001b[0m\u001b[0m\n",
            "\u001b[0;32m/usr/local/lib/python3.11/dist-packages/matplotlib/axis.py\u001b[0m in \u001b[0;36m_update_ticks\u001b[0;34m(self)\u001b[0m\n\u001b[1;32m   1299\u001b[0m         \u001b[0mminor_locs\u001b[0m \u001b[0;34m=\u001b[0m \u001b[0mself\u001b[0m\u001b[0;34m.\u001b[0m\u001b[0mget_minorticklocs\u001b[0m\u001b[0;34m(\u001b[0m\u001b[0;34m)\u001b[0m\u001b[0;34m\u001b[0m\u001b[0;34m\u001b[0m\u001b[0m\n\u001b[1;32m   1300\u001b[0m         \u001b[0mminor_labels\u001b[0m \u001b[0;34m=\u001b[0m \u001b[0mself\u001b[0m\u001b[0;34m.\u001b[0m\u001b[0mminor\u001b[0m\u001b[0;34m.\u001b[0m\u001b[0mformatter\u001b[0m\u001b[0;34m.\u001b[0m\u001b[0mformat_ticks\u001b[0m\u001b[0;34m(\u001b[0m\u001b[0mminor_locs\u001b[0m\u001b[0;34m)\u001b[0m\u001b[0;34m\u001b[0m\u001b[0;34m\u001b[0m\u001b[0m\n\u001b[0;32m-> 1301\u001b[0;31m         \u001b[0mminor_ticks\u001b[0m \u001b[0;34m=\u001b[0m \u001b[0mself\u001b[0m\u001b[0;34m.\u001b[0m\u001b[0mget_minor_ticks\u001b[0m\u001b[0;34m(\u001b[0m\u001b[0mlen\u001b[0m\u001b[0;34m(\u001b[0m\u001b[0mminor_locs\u001b[0m\u001b[0;34m)\u001b[0m\u001b[0;34m)\u001b[0m\u001b[0;34m\u001b[0m\u001b[0;34m\u001b[0m\u001b[0m\n\u001b[0m\u001b[1;32m   1302\u001b[0m         \u001b[0;32mfor\u001b[0m \u001b[0mtick\u001b[0m\u001b[0;34m,\u001b[0m \u001b[0mloc\u001b[0m\u001b[0;34m,\u001b[0m \u001b[0mlabel\u001b[0m \u001b[0;32min\u001b[0m \u001b[0mzip\u001b[0m\u001b[0;34m(\u001b[0m\u001b[0mminor_ticks\u001b[0m\u001b[0;34m,\u001b[0m \u001b[0mminor_locs\u001b[0m\u001b[0;34m,\u001b[0m \u001b[0mminor_labels\u001b[0m\u001b[0;34m)\u001b[0m\u001b[0;34m:\u001b[0m\u001b[0;34m\u001b[0m\u001b[0;34m\u001b[0m\u001b[0m\n\u001b[1;32m   1303\u001b[0m             \u001b[0mtick\u001b[0m\u001b[0;34m.\u001b[0m\u001b[0mupdate_position\u001b[0m\u001b[0;34m(\u001b[0m\u001b[0mloc\u001b[0m\u001b[0;34m)\u001b[0m\u001b[0;34m\u001b[0m\u001b[0;34m\u001b[0m\u001b[0m\n",
            "\u001b[0;32m/usr/local/lib/python3.11/dist-packages/matplotlib/axis.py\u001b[0m in \u001b[0;36mget_minor_ticks\u001b[0;34m(self, numticks)\u001b[0m\n\u001b[1;32m   1699\u001b[0m         \u001b[0;32mwhile\u001b[0m \u001b[0mlen\u001b[0m\u001b[0;34m(\u001b[0m\u001b[0mself\u001b[0m\u001b[0;34m.\u001b[0m\u001b[0mminorTicks\u001b[0m\u001b[0;34m)\u001b[0m \u001b[0;34m<\u001b[0m \u001b[0mnumticks\u001b[0m\u001b[0;34m:\u001b[0m\u001b[0;34m\u001b[0m\u001b[0;34m\u001b[0m\u001b[0m\n\u001b[1;32m   1700\u001b[0m             \u001b[0;31m# Update the new tick label properties from the old.\u001b[0m\u001b[0;34m\u001b[0m\u001b[0;34m\u001b[0m\u001b[0m\n\u001b[0;32m-> 1701\u001b[0;31m             \u001b[0mtick\u001b[0m \u001b[0;34m=\u001b[0m \u001b[0mself\u001b[0m\u001b[0;34m.\u001b[0m\u001b[0m_get_tick\u001b[0m\u001b[0;34m(\u001b[0m\u001b[0mmajor\u001b[0m\u001b[0;34m=\u001b[0m\u001b[0;32mFalse\u001b[0m\u001b[0;34m)\u001b[0m\u001b[0;34m\u001b[0m\u001b[0;34m\u001b[0m\u001b[0m\n\u001b[0m\u001b[1;32m   1702\u001b[0m             \u001b[0mself\u001b[0m\u001b[0;34m.\u001b[0m\u001b[0mminorTicks\u001b[0m\u001b[0;34m.\u001b[0m\u001b[0mappend\u001b[0m\u001b[0;34m(\u001b[0m\u001b[0mtick\u001b[0m\u001b[0;34m)\u001b[0m\u001b[0;34m\u001b[0m\u001b[0;34m\u001b[0m\u001b[0m\n\u001b[1;32m   1703\u001b[0m             \u001b[0mself\u001b[0m\u001b[0;34m.\u001b[0m\u001b[0m_copy_tick_props\u001b[0m\u001b[0;34m(\u001b[0m\u001b[0mself\u001b[0m\u001b[0;34m.\u001b[0m\u001b[0mminorTicks\u001b[0m\u001b[0;34m[\u001b[0m\u001b[0;36m0\u001b[0m\u001b[0;34m]\u001b[0m\u001b[0;34m,\u001b[0m \u001b[0mtick\u001b[0m\u001b[0;34m)\u001b[0m\u001b[0;34m\u001b[0m\u001b[0;34m\u001b[0m\u001b[0m\n",
            "\u001b[0;32m/usr/local/lib/python3.11/dist-packages/matplotlib/axis.py\u001b[0m in \u001b[0;36m_get_tick\u001b[0;34m(self, major)\u001b[0m\n\u001b[1;32m   1601\u001b[0m                 \"_tick_class or reimplement _get_tick()\")\n\u001b[1;32m   1602\u001b[0m         \u001b[0mtick_kw\u001b[0m \u001b[0;34m=\u001b[0m \u001b[0mself\u001b[0m\u001b[0;34m.\u001b[0m\u001b[0m_major_tick_kw\u001b[0m \u001b[0;32mif\u001b[0m \u001b[0mmajor\u001b[0m \u001b[0;32melse\u001b[0m \u001b[0mself\u001b[0m\u001b[0;34m.\u001b[0m\u001b[0m_minor_tick_kw\u001b[0m\u001b[0;34m\u001b[0m\u001b[0;34m\u001b[0m\u001b[0m\n\u001b[0;32m-> 1603\u001b[0;31m         \u001b[0;32mreturn\u001b[0m \u001b[0mself\u001b[0m\u001b[0;34m.\u001b[0m\u001b[0m_tick_class\u001b[0m\u001b[0;34m(\u001b[0m\u001b[0mself\u001b[0m\u001b[0;34m.\u001b[0m\u001b[0maxes\u001b[0m\u001b[0;34m,\u001b[0m \u001b[0;36m0\u001b[0m\u001b[0;34m,\u001b[0m \u001b[0mmajor\u001b[0m\u001b[0;34m=\u001b[0m\u001b[0mmajor\u001b[0m\u001b[0;34m,\u001b[0m \u001b[0;34m**\u001b[0m\u001b[0mtick_kw\u001b[0m\u001b[0;34m)\u001b[0m\u001b[0;34m\u001b[0m\u001b[0;34m\u001b[0m\u001b[0m\n\u001b[0m\u001b[1;32m   1604\u001b[0m \u001b[0;34m\u001b[0m\u001b[0m\n\u001b[1;32m   1605\u001b[0m     \u001b[0;32mdef\u001b[0m \u001b[0m_get_tick_label_size\u001b[0m\u001b[0;34m(\u001b[0m\u001b[0mself\u001b[0m\u001b[0;34m,\u001b[0m \u001b[0maxis_name\u001b[0m\u001b[0;34m)\u001b[0m\u001b[0;34m:\u001b[0m\u001b[0;34m\u001b[0m\u001b[0;34m\u001b[0m\u001b[0m\n",
            "\u001b[0;32m/usr/local/lib/python3.11/dist-packages/matplotlib/axis.py\u001b[0m in \u001b[0;36m__init__\u001b[0;34m(self, *args, **kwargs)\u001b[0m\n\u001b[1;32m    427\u001b[0m \u001b[0;34m\u001b[0m\u001b[0m\n\u001b[1;32m    428\u001b[0m     \u001b[0;32mdef\u001b[0m \u001b[0m__init__\u001b[0m\u001b[0;34m(\u001b[0m\u001b[0mself\u001b[0m\u001b[0;34m,\u001b[0m \u001b[0;34m*\u001b[0m\u001b[0margs\u001b[0m\u001b[0;34m,\u001b[0m \u001b[0;34m**\u001b[0m\u001b[0mkwargs\u001b[0m\u001b[0;34m)\u001b[0m\u001b[0;34m:\u001b[0m\u001b[0;34m\u001b[0m\u001b[0;34m\u001b[0m\u001b[0m\n\u001b[0;32m--> 429\u001b[0;31m         \u001b[0msuper\u001b[0m\u001b[0;34m(\u001b[0m\u001b[0;34m)\u001b[0m\u001b[0;34m.\u001b[0m\u001b[0m__init__\u001b[0m\u001b[0;34m(\u001b[0m\u001b[0;34m*\u001b[0m\u001b[0margs\u001b[0m\u001b[0;34m,\u001b[0m \u001b[0;34m**\u001b[0m\u001b[0mkwargs\u001b[0m\u001b[0;34m)\u001b[0m\u001b[0;34m\u001b[0m\u001b[0;34m\u001b[0m\u001b[0m\n\u001b[0m\u001b[1;32m    430\u001b[0m         \u001b[0;31m# x in axes coords, y in data coords\u001b[0m\u001b[0;34m\u001b[0m\u001b[0;34m\u001b[0m\u001b[0m\n\u001b[1;32m    431\u001b[0m         \u001b[0max\u001b[0m \u001b[0;34m=\u001b[0m \u001b[0mself\u001b[0m\u001b[0;34m.\u001b[0m\u001b[0maxes\u001b[0m\u001b[0;34m\u001b[0m\u001b[0;34m\u001b[0m\u001b[0m\n",
            "\u001b[0;32m/usr/local/lib/python3.11/dist-packages/matplotlib/axis.py\u001b[0m in \u001b[0;36m__init__\u001b[0;34m(self, axes, loc, size, width, color, tickdir, pad, labelsize, labelcolor, labelfontfamily, zorder, gridOn, tick1On, tick2On, label1On, label2On, major, labelrotation, grid_color, grid_linestyle, grid_linewidth, grid_alpha, **kwargs)\u001b[0m\n\u001b[1;32m    179\u001b[0m             fontfamily=labelfontfamily, rotation=self._labelrotation[1])\n\u001b[1;32m    180\u001b[0m \u001b[0;34m\u001b[0m\u001b[0m\n\u001b[0;32m--> 181\u001b[0;31m         \u001b[0mself\u001b[0m\u001b[0;34m.\u001b[0m\u001b[0m_apply_tickdir\u001b[0m\u001b[0;34m(\u001b[0m\u001b[0mtickdir\u001b[0m\u001b[0;34m)\u001b[0m\u001b[0;34m\u001b[0m\u001b[0;34m\u001b[0m\u001b[0m\n\u001b[0m\u001b[1;32m    182\u001b[0m \u001b[0;34m\u001b[0m\u001b[0m\n\u001b[1;32m    183\u001b[0m         for artist in [self.tick1line, self.tick2line, self.gridline,\n",
            "\u001b[0;32m/usr/local/lib/python3.11/dist-packages/matplotlib/axis.py\u001b[0m in \u001b[0;36m_apply_tickdir\u001b[0;34m(self, tickdir)\u001b[0m\n\u001b[1;32m    463\u001b[0m         }[self._tickdir]\n\u001b[1;32m    464\u001b[0m         \u001b[0mself\u001b[0m\u001b[0;34m.\u001b[0m\u001b[0mtick1line\u001b[0m\u001b[0;34m.\u001b[0m\u001b[0mset_marker\u001b[0m\u001b[0;34m(\u001b[0m\u001b[0mmark1\u001b[0m\u001b[0;34m)\u001b[0m\u001b[0;34m\u001b[0m\u001b[0;34m\u001b[0m\u001b[0m\n\u001b[0;32m--> 465\u001b[0;31m         \u001b[0mself\u001b[0m\u001b[0;34m.\u001b[0m\u001b[0mtick2line\u001b[0m\u001b[0;34m.\u001b[0m\u001b[0mset_marker\u001b[0m\u001b[0;34m(\u001b[0m\u001b[0mmark2\u001b[0m\u001b[0;34m)\u001b[0m\u001b[0;34m\u001b[0m\u001b[0;34m\u001b[0m\u001b[0m\n\u001b[0m\u001b[1;32m    466\u001b[0m \u001b[0;34m\u001b[0m\u001b[0m\n\u001b[1;32m    467\u001b[0m     \u001b[0;32mdef\u001b[0m \u001b[0mupdate_position\u001b[0m\u001b[0;34m(\u001b[0m\u001b[0mself\u001b[0m\u001b[0;34m,\u001b[0m \u001b[0mloc\u001b[0m\u001b[0;34m)\u001b[0m\u001b[0;34m:\u001b[0m\u001b[0;34m\u001b[0m\u001b[0;34m\u001b[0m\u001b[0m\n",
            "\u001b[0;32m/usr/local/lib/python3.11/dist-packages/matplotlib/lines.py\u001b[0m in \u001b[0;36mset_marker\u001b[0;34m(self, marker)\u001b[0m\n\u001b[1;32m   1198\u001b[0m             \u001b[0marguments\u001b[0m\u001b[0;34m.\u001b[0m\u001b[0;34m\u001b[0m\u001b[0;34m\u001b[0m\u001b[0m\n\u001b[1;32m   1199\u001b[0m         \"\"\"\n\u001b[0;32m-> 1200\u001b[0;31m         \u001b[0mself\u001b[0m\u001b[0;34m.\u001b[0m\u001b[0m_marker\u001b[0m \u001b[0;34m=\u001b[0m \u001b[0mMarkerStyle\u001b[0m\u001b[0;34m(\u001b[0m\u001b[0mmarker\u001b[0m\u001b[0;34m,\u001b[0m \u001b[0mself\u001b[0m\u001b[0;34m.\u001b[0m\u001b[0m_marker\u001b[0m\u001b[0;34m.\u001b[0m\u001b[0mget_fillstyle\u001b[0m\u001b[0;34m(\u001b[0m\u001b[0;34m)\u001b[0m\u001b[0;34m)\u001b[0m\u001b[0;34m\u001b[0m\u001b[0;34m\u001b[0m\u001b[0m\n\u001b[0m\u001b[1;32m   1201\u001b[0m         \u001b[0mself\u001b[0m\u001b[0;34m.\u001b[0m\u001b[0mstale\u001b[0m \u001b[0;34m=\u001b[0m \u001b[0;32mTrue\u001b[0m\u001b[0;34m\u001b[0m\u001b[0;34m\u001b[0m\u001b[0m\n\u001b[1;32m   1202\u001b[0m \u001b[0;34m\u001b[0m\u001b[0m\n",
            "\u001b[0;32m/usr/local/lib/python3.11/dist-packages/matplotlib/markers.py\u001b[0m in \u001b[0;36m__init__\u001b[0;34m(self, marker, fillstyle, transform, capstyle, joinstyle)\u001b[0m\n\u001b[1;32m    246\u001b[0m         \u001b[0mself\u001b[0m\u001b[0;34m.\u001b[0m\u001b[0m_user_joinstyle\u001b[0m \u001b[0;34m=\u001b[0m \u001b[0mJoinStyle\u001b[0m\u001b[0;34m(\u001b[0m\u001b[0mjoinstyle\u001b[0m\u001b[0;34m)\u001b[0m \u001b[0;32mif\u001b[0m \u001b[0mjoinstyle\u001b[0m \u001b[0;32mis\u001b[0m \u001b[0;32mnot\u001b[0m \u001b[0;32mNone\u001b[0m \u001b[0;32melse\u001b[0m \u001b[0;32mNone\u001b[0m\u001b[0;34m\u001b[0m\u001b[0;34m\u001b[0m\u001b[0m\n\u001b[1;32m    247\u001b[0m         \u001b[0mself\u001b[0m\u001b[0;34m.\u001b[0m\u001b[0m_set_fillstyle\u001b[0m\u001b[0;34m(\u001b[0m\u001b[0mfillstyle\u001b[0m\u001b[0;34m)\u001b[0m\u001b[0;34m\u001b[0m\u001b[0;34m\u001b[0m\u001b[0m\n\u001b[0;32m--> 248\u001b[0;31m         \u001b[0mself\u001b[0m\u001b[0;34m.\u001b[0m\u001b[0m_set_marker\u001b[0m\u001b[0;34m(\u001b[0m\u001b[0mmarker\u001b[0m\u001b[0;34m)\u001b[0m\u001b[0;34m\u001b[0m\u001b[0;34m\u001b[0m\u001b[0m\n\u001b[0m\u001b[1;32m    249\u001b[0m \u001b[0;34m\u001b[0m\u001b[0m\n\u001b[1;32m    250\u001b[0m     \u001b[0;32mdef\u001b[0m \u001b[0m_recache\u001b[0m\u001b[0;34m(\u001b[0m\u001b[0mself\u001b[0m\u001b[0;34m)\u001b[0m\u001b[0;34m:\u001b[0m\u001b[0;34m\u001b[0m\u001b[0;34m\u001b[0m\u001b[0m\n",
            "\u001b[0;32m/usr/local/lib/python3.11/dist-packages/matplotlib/markers.py\u001b[0m in \u001b[0;36m_set_marker\u001b[0;34m(self, marker)\u001b[0m\n\u001b[1;32m    332\u001b[0m         \u001b[0;32mif\u001b[0m \u001b[0;32mnot\u001b[0m \u001b[0misinstance\u001b[0m\u001b[0;34m(\u001b[0m\u001b[0mmarker\u001b[0m\u001b[0;34m,\u001b[0m \u001b[0mMarkerStyle\u001b[0m\u001b[0;34m)\u001b[0m\u001b[0;34m:\u001b[0m\u001b[0;34m\u001b[0m\u001b[0;34m\u001b[0m\u001b[0m\n\u001b[1;32m    333\u001b[0m             \u001b[0mself\u001b[0m\u001b[0;34m.\u001b[0m\u001b[0m_marker\u001b[0m \u001b[0;34m=\u001b[0m \u001b[0mmarker\u001b[0m\u001b[0;34m\u001b[0m\u001b[0;34m\u001b[0m\u001b[0m\n\u001b[0;32m--> 334\u001b[0;31m             \u001b[0mself\u001b[0m\u001b[0;34m.\u001b[0m\u001b[0m_recache\u001b[0m\u001b[0;34m(\u001b[0m\u001b[0;34m)\u001b[0m\u001b[0;34m\u001b[0m\u001b[0;34m\u001b[0m\u001b[0m\n\u001b[0m\u001b[1;32m    335\u001b[0m \u001b[0;34m\u001b[0m\u001b[0m\n\u001b[1;32m    336\u001b[0m     \u001b[0;32mdef\u001b[0m \u001b[0mget_path\u001b[0m\u001b[0;34m(\u001b[0m\u001b[0mself\u001b[0m\u001b[0;34m)\u001b[0m\u001b[0;34m:\u001b[0m\u001b[0;34m\u001b[0m\u001b[0;34m\u001b[0m\u001b[0m\n",
            "\u001b[0;32m/usr/local/lib/python3.11/dist-packages/matplotlib/markers.py\u001b[0m in \u001b[0;36m_recache\u001b[0;34m(self)\u001b[0m\n\u001b[1;32m    262\u001b[0m         \u001b[0;31m# markers.\u001b[0m\u001b[0;34m\u001b[0m\u001b[0;34m\u001b[0m\u001b[0m\n\u001b[1;32m    263\u001b[0m         \u001b[0mself\u001b[0m\u001b[0;34m.\u001b[0m\u001b[0m_filled\u001b[0m \u001b[0;34m=\u001b[0m \u001b[0mself\u001b[0m\u001b[0;34m.\u001b[0m\u001b[0m_fillstyle\u001b[0m \u001b[0;34m!=\u001b[0m \u001b[0;34m'none'\u001b[0m\u001b[0;34m\u001b[0m\u001b[0;34m\u001b[0m\u001b[0m\n\u001b[0;32m--> 264\u001b[0;31m         \u001b[0mself\u001b[0m\u001b[0;34m.\u001b[0m\u001b[0m_marker_function\u001b[0m\u001b[0;34m(\u001b[0m\u001b[0;34m)\u001b[0m\u001b[0;34m\u001b[0m\u001b[0;34m\u001b[0m\u001b[0m\n\u001b[0m\u001b[1;32m    265\u001b[0m \u001b[0;34m\u001b[0m\u001b[0m\n\u001b[1;32m    266\u001b[0m     \u001b[0;32mdef\u001b[0m \u001b[0m__bool__\u001b[0m\u001b[0;34m(\u001b[0m\u001b[0mself\u001b[0m\u001b[0;34m)\u001b[0m\u001b[0;34m:\u001b[0m\u001b[0;34m\u001b[0m\u001b[0;34m\u001b[0m\u001b[0m\n",
            "\u001b[0;32m/usr/local/lib/python3.11/dist-packages/matplotlib/markers.py\u001b[0m in \u001b[0;36m_set_tickright\u001b[0;34m(self)\u001b[0m\n\u001b[1;32m    761\u001b[0m \u001b[0;34m\u001b[0m\u001b[0m\n\u001b[1;32m    762\u001b[0m     \u001b[0;32mdef\u001b[0m \u001b[0m_set_tickright\u001b[0m\u001b[0;34m(\u001b[0m\u001b[0mself\u001b[0m\u001b[0;34m)\u001b[0m\u001b[0;34m:\u001b[0m\u001b[0;34m\u001b[0m\u001b[0;34m\u001b[0m\u001b[0m\n\u001b[0;32m--> 763\u001b[0;31m         \u001b[0mself\u001b[0m\u001b[0;34m.\u001b[0m\u001b[0m_transform\u001b[0m \u001b[0;34m=\u001b[0m \u001b[0mAffine2D\u001b[0m\u001b[0;34m(\u001b[0m\u001b[0;34m)\u001b[0m\u001b[0;34m.\u001b[0m\u001b[0mscale\u001b[0m\u001b[0;34m(\u001b[0m\u001b[0;36m1.0\u001b[0m\u001b[0;34m,\u001b[0m \u001b[0;36m1.0\u001b[0m\u001b[0;34m)\u001b[0m\u001b[0;34m\u001b[0m\u001b[0;34m\u001b[0m\u001b[0m\n\u001b[0m\u001b[1;32m    764\u001b[0m         \u001b[0mself\u001b[0m\u001b[0;34m.\u001b[0m\u001b[0m_snap_threshold\u001b[0m \u001b[0;34m=\u001b[0m \u001b[0;36m1.0\u001b[0m\u001b[0;34m\u001b[0m\u001b[0;34m\u001b[0m\u001b[0m\n\u001b[1;32m    765\u001b[0m         \u001b[0mself\u001b[0m\u001b[0;34m.\u001b[0m\u001b[0m_filled\u001b[0m \u001b[0;34m=\u001b[0m \u001b[0;32mFalse\u001b[0m\u001b[0;34m\u001b[0m\u001b[0;34m\u001b[0m\u001b[0m\n",
            "\u001b[0;32m/usr/local/lib/python3.11/dist-packages/matplotlib/transforms.py\u001b[0m in \u001b[0;36m__init__\u001b[0;34m(self, matrix, **kwargs)\u001b[0m\n\u001b[1;32m   1894\u001b[0m         \u001b[0mIf\u001b[0m \u001b[0;34m*\u001b[0m\u001b[0mmatrix\u001b[0m\u001b[0;34m*\u001b[0m \u001b[0;32mis\u001b[0m \u001b[0;32mNone\u001b[0m\u001b[0;34m,\u001b[0m \u001b[0minitialize\u001b[0m \u001b[0;32mwith\u001b[0m \u001b[0mthe\u001b[0m \u001b[0midentity\u001b[0m \u001b[0mtransform\u001b[0m\u001b[0;34m.\u001b[0m\u001b[0;34m\u001b[0m\u001b[0;34m\u001b[0m\u001b[0m\n\u001b[1;32m   1895\u001b[0m         \"\"\"\n\u001b[0;32m-> 1896\u001b[0;31m         \u001b[0msuper\u001b[0m\u001b[0;34m(\u001b[0m\u001b[0;34m)\u001b[0m\u001b[0;34m.\u001b[0m\u001b[0m__init__\u001b[0m\u001b[0;34m(\u001b[0m\u001b[0;34m**\u001b[0m\u001b[0mkwargs\u001b[0m\u001b[0;34m)\u001b[0m\u001b[0;34m\u001b[0m\u001b[0;34m\u001b[0m\u001b[0m\n\u001b[0m\u001b[1;32m   1897\u001b[0m         \u001b[0;32mif\u001b[0m \u001b[0mmatrix\u001b[0m \u001b[0;32mis\u001b[0m \u001b[0;32mNone\u001b[0m\u001b[0;34m:\u001b[0m\u001b[0;34m\u001b[0m\u001b[0;34m\u001b[0m\u001b[0m\n\u001b[1;32m   1898\u001b[0m             \u001b[0;31m# A bit faster than np.identity(3).\u001b[0m\u001b[0;34m\u001b[0m\u001b[0;34m\u001b[0m\u001b[0m\n",
            "\u001b[0;31mKeyboardInterrupt\u001b[0m: "
          ]
        },
        {
          "output_type": "display_data",
          "data": {
            "text/plain": [
              "<Figure size 800x500 with 1 Axes>"
            ],
            "image/png": "[encoded data removed]"
          },
          "metadata": {}
        }
      ],
      "source": [
        "plot_weight_distribution(weights, log_scale=True)"
      ]
    },
    {
      "cell_type": "code",
      "execution_count": 14,
      "metadata": {
        "colab": {
          "base_uri": "https://localhost:8080/"
        },
        "id": "7dz5YAIQ9Glj",
        "outputId": "a5ef13e1-e280-41e1-a8ee-1310b8dfa67c"
      },
      "outputs": [
        {
          "output_type": "stream",
          "name": "stdout",
          "text": [
            "99th: 0.0014, 95th: 0.0012, 90th: 0.0012\n"
          ]
        }
      ],
      "source": [
        "# EDA on top 11million synthetic R-R weights\n",
        "import numpy as np\n",
        "tau_99 = np.percentile(list(weights.values()), 99)\n",
        "tau_95 = np.percentile(list(weights.values()), 95)\n",
        "tau_90 = np.percentile(list(weights.values()), 90)\n",
        "print(f\"99th: {tau_99:.4f}, 95th: {tau_95:.4f}, 90th: {tau_90:.4f}\")"
      ]
    },
    {
      "cell_type": "code",
      "source": [
        "# calculate tau via KneeLocator https://pypi.org/project/kneed\n",
        "## should be run on full weights array, not top max_edges. Difficult for memory.\n",
        "tau = find_tau_knee_robust(weights)\n",
        "print(f\"τ = {tau:.6f}\")"
      ],
      "metadata": {
        "id": "GLDn96_J9MKn"
      },
      "execution_count": null,
      "outputs": []
    },
    {
      "cell_type": "code",
      "source": [
        "tau = tau_90\n",
        "\n",
        "count_above_tau = sum(1 for w in R_weights_refined.values() if w > tau)\n",
        "print(f\"Number of R→R weights above τ = {tau:.6f}: {count_above_tau}\")\n",
        "\n",
        "R_nodes_count = len(set(B.nodes()) - workspace_handles)\n",
        "total_weights = (R_nodes_count * (R_nodes_count - 1)) ## original number of weights\n",
        "percent = 100 * count_above_tau / total_weights\n",
        "\n",
        "print(f\"{count_above_tau:,} out of {total_weights:,} weights ({percent:.2f}%) are above τ.\")\n"
      ],
      "metadata": {
        "colab": {
          "base_uri": "https://localhost:8080/"
        },
        "id": "R-78eXLWHkF7",
        "outputId": "49da7476-272d-48f2-d5f4-6048f40e043b"
      },
      "execution_count": 15,
      "outputs": [
        {
          "output_type": "stream",
          "name": "stdout",
          "text": [
            "Number of R→R weights above τ = 0.001166: 541860\n",
            "541,860 out of 481,253,906 weights (0.11%) are above τ.\n"
          ]
        }
      ]
    },
    {
      "cell_type": "code",
      "execution_count": 16,
      "metadata": {
        "id": "_Q18vf0X7is6"
      },
      "outputs": [],
      "source": [
        "T = construct_tripartite_graph(B.edges(), workspace_handles, set(B.nodes()) - workspace_handles, weights, tau)"
      ]
    },
    {
      "cell_type": "code",
      "source": [
        "# --- Compute summary statistics ---\n",
        "num_nodes = T.number_of_nodes()\n",
        "num_edges = T.number_of_edges()\n",
        "density_undirected = nx.density(T.to_undirected())\n",
        "\n",
        "# Partition counts\n",
        "L_nodes  = [n for n, d in T.nodes(data=True) if d.get('bipartite') == 'L']\n",
        "R_nodes  = [n for n, d in T.nodes(data=True) if d.get('bipartite') == 'R']\n",
        "Lp_nodes = [n for n, d in T.nodes(data=True) if d.get('bipartite') == \"L_prime\"]\n",
        "\n",
        "num_L  = len(L_nodes)\n",
        "num_R  = len(R_nodes)\n",
        "num_Lp = len(Lp_nodes)\n",
        "\n",
        "\n",
        "# Initialize counters\n",
        "rr_edges = 0\n",
        "lr_edges = 0\n",
        "rlp_edges = 0\n",
        "# edges count\n",
        "for u, v in T.edges():\n",
        "    if u in R_nodes and v in R_nodes:\n",
        "        rr_edges += 1\n",
        "    elif u in L_nodes and v in R_nodes:\n",
        "        lr_edges += 1\n",
        "    elif u in R_nodes and v in Lp_nodes:\n",
        "        rlp_edges += 1\n",
        "\n",
        "# Degree stats\n",
        "degrees   = dict(T.degree())\n",
        "avg_degree = sum(degrees.values()) / num_nodes\n",
        "max_degree = max(degrees.values())\n",
        "min_degree = min(degrees.values())\n"
      ],
      "metadata": {
        "id": "nny14DeHSLUr"
      },
      "execution_count": 17,
      "outputs": []
    },
    {
      "cell_type": "code",
      "source": [
        "# clustering & components on undirected version\n",
        "#U          = G.to_undirected()\n",
        "#avg_clust  = nx.average_clustering(U)\n",
        "#components = list(nx.connected_components(U))\n",
        "#n_comps    = len(components)\n",
        "#largest_cc = max(len(c) for c in components)\n",
        "\n",
        "# --- 3. Print summary ---\n",
        "print(f\"Total nodes:               {num_nodes}\")\n",
        "print(f\"  L nodes (workspace):     {num_L}\")\n",
        "print(f\"  R nodes (non-workspace): {num_R}\")\n",
        "print(f\"  L' nodes (copies):       {num_Lp}\\n\")\n",
        "\n",
        "print(f\"Total edges:               {num_edges}\")\n",
        "print(f\"R → R edges (synthetic):     {rr_edges:,}\")\n",
        "print(f\"L → R edges:     {lr_edges:,}\")\n",
        "print(f\"R → L′ edges:    {rlp_edges:,}\")\n"
      ],
      "metadata": {
        "colab": {
          "base_uri": "https://localhost:8080/"
        },
        "id": "ex1OtFkaSMWK",
        "outputId": "c19baef9-d1c7-47f0-e592-e563501e81c6"
      },
      "execution_count": 18,
      "outputs": [
        {
          "output_type": "stream",
          "name": "stdout",
          "text": [
            "Total nodes:               21964\n",
            "  L nodes (workspace):     13\n",
            "  R nodes (non-workspace): 21938\n",
            "  L' nodes (copies):       13\n",
            "\n",
            "Total edges:               571689\n",
            "R → R edges (synthetic):     541,860\n",
            "L → R edges:     15,781\n",
            "R → L′ edges:    14,048\n"
          ]
        }
      ]
    },
    {
      "cell_type": "code",
      "source": [
        "### get betweenness centrality from L->L'\n",
        "import networkx as nx\n",
        "\n",
        "# 1. Identify your partitions\n",
        "L_nodes   = [n for n,d in T.nodes(data=True) if d.get('bipartite') == 'L']\n",
        "Lp_nodes  = [n for n,d in T.nodes(data=True) if d.get('bipartite') == \"L_prime\"]\n",
        "R_nodes   = [n for n,d in T.nodes(data=True) if d.get('bipartite') == 'R']\n",
        "\n",
        "# 2. Compute L→L' betweenness\n",
        "#    This explores only shortest paths from every L in L_nodes to every L' in Lp_nodes\n",
        "bc_subset = nx.betweenness_centrality_subset(\n",
        "    T,\n",
        "    sources=L_nodes,\n",
        "    targets=Lp_nodes,\n",
        "    normalized=True  # set False if you want raw counts\n",
        ")\n",
        "\n",
        "# 3. Extract and rank only the R-side scores\n",
        "r_scores = [(r, bc_subset[r]) for r in R_nodes]\n",
        "r_scores.sort(key=lambda x: x[1], reverse=True)\n",
        "\n",
        "# 4. Print top 10 most “bridging” non-members with degree info\n",
        "print(\"Top 10 R-nodes by L→L' betweenness:\")\n",
        "print(f\"{'Node':20s} {'Betweenness':>12s} {'InDeg':>6s} {'OutDeg':>6s}\")\n",
        "\n",
        "for r, score in r_scores[:10]:\n",
        "    indeg = T.in_degree(r)\n",
        "    outdeg = T.out_degree(r)\n",
        "    print(f\"{r:20s} {score:12.4e} {indeg:6d} {outdeg:6d}\")\n",
        "\n"
      ],
      "metadata": {
        "id": "HSGxmna4JYQf",
        "colab": {
          "base_uri": "https://localhost:8080/"
        },
        "outputId": "44ef7f59-f765-4a74-eb8b-b8f6eab6c4da"
      },
      "execution_count": 19,
      "outputs": [
        {
          "output_type": "stream",
          "name": "stdout",
          "text": [
            "Top 10 R-nodes by L→L' betweenness:\n",
            "Node                  Betweenness  InDeg OutDeg\n",
            "disabroad              1.2439e-08      7    182\n",
            "anderss.k              5.2203e-09      2      4\n",
            "livingstonfootballclub   4.9065e-09      4    654\n",
            "ye                     4.9065e-09      7    654\n",
            "itzkim_y               4.4203e-09      2      3\n",
            "will.b.lambert         4.3782e-09      2      3\n",
            "sally.bornhorst        4.2365e-09    239    240\n",
            "lylahaikoye            4.1543e-09      2    654\n",
            "_anders_hansen         4.1529e-09      3      2\n",
            "mindy.kimm             4.1524e-09      2      2\n"
          ]
        }
      ]
    },
    {
      "cell_type": "code",
      "source": [
        "import matplotlib.pyplot as plt\n",
        "import numpy as np\n",
        "\n",
        "def plot_degree_distribution_loglog(G, title=\"Degree Distribution (Log-Log)\"):\n",
        "    degrees = [G.degree(n) for n in G.nodes()]\n",
        "\n",
        "    # Count how many nodes have each degree\n",
        "    degree_counts = {}\n",
        "    for d in degrees:\n",
        "        degree_counts[d] = degree_counts.get(d, 0) + 1\n",
        "\n",
        "    x = np.array(list(degree_counts.keys()))\n",
        "    y = np.array(list(degree_counts.values()))\n",
        "\n",
        "    # Sort for cleaner plotting\n",
        "    sorted_indices = np.argsort(x)\n",
        "    x = x[sorted_indices]\n",
        "    y = y[sorted_indices]\n",
        "\n",
        "    # Plot\n",
        "    plt.figure(figsize=(8, 6))\n",
        "    plt.loglog(x, y, marker='o', linestyle='none')\n",
        "    plt.xlabel(\"Degree (log scale)\")\n",
        "    plt.ylabel(\"Number of Nodes (log scale)\")\n",
        "    plt.title(title)\n",
        "    plt.grid(True, which='both', linestyle='--', linewidth=0.5)\n",
        "    plt.tight_layout()\n",
        "    plt.show()\n",
        "plot_degree_distribution_loglog(T, title=\"Tripartite Graph Degree Distribution\")\n"
      ],
      "metadata": {
        "colab": {
          "base_uri": "https://localhost:8080/",
          "height": 607
        },
        "id": "EZoSKYk7lZKy",
        "outputId": "54d07173-3498-4a41-940b-0964ea63aed3"
      },
      "execution_count": 20,
      "outputs": [
        {
          "output_type": "display_data",
          "data": {
            "text/plain": [
              "<Figure size 800x600 with 1 Axes>"
            ],
            "image/png": "[encoded data removed]"
          },
          "metadata": {}
        }
      ]
    },
    {
      "cell_type": "code",
      "source": [
        "# assume T is your tripartite Graph, and username_dict as before\n",
        "workspace_handles = set(username_dict.values())\n",
        "\n",
        "# list of target accounts you care about\n",
        "#interesting_accounts = [handle for handle, _ in top_connectors]\n",
        "interesting_accounts = ['anderss.k', 'itzkim_y']\n",
        "\n",
        "for member in workspace_handles:\n",
        "    for target in interesting_accounts:\n",
        "        if member == target:\n",
        "            continue  # skip if member and target are the same\n",
        "        try:\n",
        "            path = nx.shortest_path(T, source=member, target=target)\n",
        "            print(f\"{member:12s} → {target:12s} :  {'  →  '.join(path)}\")\n",
        "        except nx.NetworkXNoPath:\n",
        "            print(f\"{member:12s} → {target:12s} :  no path\")"
      ],
      "metadata": {
        "colab": {
          "base_uri": "https://localhost:8080/"
        },
        "id": "950mQwCFjbAI",
        "outputId": "e1b01ce6-528d-4a82-d8ab-799f609f40b9"
      },
      "execution_count": 21,
      "outputs": [
        {
          "output_type": "stream",
          "name": "stdout",
          "text": [
            "noahpurow    → anderss.k    :  no path\n",
            "noahpurow    → itzkim_y     :  no path\n",
            "zach.annuik  → anderss.k    :  no path\n",
            "zach.annuik  → itzkim_y     :  no path\n",
            "liam_hochman → anderss.k    :  no path\n",
            "liam_hochman → itzkim_y     :  no path\n",
            "yota.katsikouli → anderss.k    :  no path\n",
            "yota.katsikouli → itzkim_y     :  no path\n",
            "alex.kalis   → anderss.k    :  no path\n",
            "alex.kalis   → itzkim_y     :  no path\n",
            "elybrayboy   → anderss.k    :  no path\n",
            "elybrayboy   → itzkim_y     :  elybrayboy  →  itzkim_y\n",
            "seoeunki.m   → anderss.k    :  no path\n",
            "seoeunki.m   → itzkim_y     :  no path\n",
            "will.deley   → anderss.k    :  no path\n",
            "will.deley   → itzkim_y     :  no path\n",
            "alexandrapurdy_ → anderss.k    :  no path\n",
            "alexandrapurdy_ → itzkim_y     :  no path\n",
            "dis.copenhagen → anderss.k    :  no path\n",
            "dis.copenhagen → itzkim_y     :  no path\n",
            "kirindanek   → anderss.k    :  kirindanek  →  anderss.k\n",
            "kirindanek   → itzkim_y     :  no path\n",
            "kabir_aho    → anderss.k    :  kabir_aho  →  anderss.k\n",
            "kabir_aho    → itzkim_y     :  no path\n",
            "swang330     → anderss.k    :  no path\n",
            "swang330     → itzkim_y     :  swang330  →  itzkim_y\n"
          ]
        }
      ]
    },
    {
      "cell_type": "code",
      "source": [],
      "metadata": {
        "id": "AIasI8d-keuu"
      },
      "execution_count": null,
      "outputs": []
    }
  ],
  "metadata": {
    "colab": {
      "provenance": []
    },
    "kernelspec": {
      "display_name": "Python 3",
      "name": "python3"
    },
    "language_info": {
      "name": "python"
    }
  },
  "nbformat": 4,
  "nbformat_minor": 0
}